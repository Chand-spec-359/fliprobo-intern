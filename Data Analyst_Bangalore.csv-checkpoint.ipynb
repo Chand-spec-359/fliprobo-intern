{
 "cells": [
  {
   "cell_type": "code",
   "execution_count": 1,
   "metadata": {},
   "outputs": [
    {
     "name": "stdout",
     "output_type": "stream",
     "text": [
      "Requirement already satisfied: selenium in c:\\users\\chand sharma\\anaconda3\\lib\\site-packages (3.141.0)\n",
      "Requirement already satisfied: urllib3 in c:\\users\\chand sharma\\anaconda3\\lib\\site-packages (from selenium) (1.25.11)\n"
     ]
    }
   ],
   "source": [
    "! pip install selenium"
   ]
  },
  {
   "cell_type": "code",
   "execution_count": 2,
   "metadata": {},
   "outputs": [],
   "source": [
    "import selenium\n",
    "import pandas as pd\n",
    "from selenium import webdriver"
   ]
  },
  {
   "cell_type": "code",
   "execution_count": 3,
   "metadata": {},
   "outputs": [],
   "source": [
    "driver= webdriver.Chrome('chromedriver.exe')"
   ]
  },
  {
   "cell_type": "code",
   "execution_count": 4,
   "metadata": {},
   "outputs": [],
   "source": [
    "url='https://www.naukri.com/'\n",
    "driver.get(url)"
   ]
  },
  {
   "cell_type": "code",
   "execution_count": 5,
   "metadata": {},
   "outputs": [
    {
     "data": {
      "text/plain": [
       "<selenium.webdriver.remote.webelement.WebElement (session=\"4cbbe1dc11e0ae6e53dac4346fadee0e\", element=\"d7e98f38-2a50-4e21-a7f6-a9b88004c79e\")>"
      ]
     },
     "execution_count": 5,
     "metadata": {},
     "output_type": "execute_result"
    }
   ],
   "source": [
    "search_job= driver.find_element_by_id('qsb-keyword-sugg')\n",
    "search_job"
   ]
  },
  {
   "cell_type": "code",
   "execution_count": 6,
   "metadata": {},
   "outputs": [],
   "source": [
    "#write on search bar\n",
    "search_job.send_keys('Data Analyst')"
   ]
  },
  {
   "cell_type": "code",
   "execution_count": 7,
   "metadata": {},
   "outputs": [],
   "source": [
    "#finding element for job location bar\n",
    "search_loc= driver.find_element_by_id('qsb-location-sugg')\n",
    "search_loc.send_keys('Bangalore')"
   ]
  },
  {
   "cell_type": "code",
   "execution_count": 8,
   "metadata": {},
   "outputs": [],
   "source": [
    "#write on search bar\n",
    "search_job.send_keys('Data Analyst')"
   ]
  },
  {
   "cell_type": "code",
   "execution_count": 9,
   "metadata": {},
   "outputs": [],
   "source": [
    "#finding element for job location bar\n",
    "search_loc= driver.find_element_by_id('qsb-location-sugg')\n",
    "search_loc.send_keys('Bangalore')"
   ]
  },
  {
   "cell_type": "code",
   "execution_count": 10,
   "metadata": {},
   "outputs": [],
   "source": [
    "# do click using xpath function\n",
    "\n",
    "search_btn= driver.find_element_by_xpath(\"//button[@class='btn']\")\n",
    "search_btn.click()"
   ]
  },
  {
   "cell_type": "code",
   "execution_count": 11,
   "metadata": {},
   "outputs": [
    {
     "data": {
      "text/plain": [
       "[<selenium.webdriver.remote.webelement.WebElement (session=\"4cbbe1dc11e0ae6e53dac4346fadee0e\", element=\"af670ccd-a9e0-4762-babe-fd4b32daf3bc\")>,\n",
       " <selenium.webdriver.remote.webelement.WebElement (session=\"4cbbe1dc11e0ae6e53dac4346fadee0e\", element=\"2c1854c5-775a-4814-b1c5-523c431eb442\")>,\n",
       " <selenium.webdriver.remote.webelement.WebElement (session=\"4cbbe1dc11e0ae6e53dac4346fadee0e\", element=\"30bc76b4-d1c8-48a1-bcf8-93f915436c15\")>,\n",
       " <selenium.webdriver.remote.webelement.WebElement (session=\"4cbbe1dc11e0ae6e53dac4346fadee0e\", element=\"e7e101b2-ad7d-40ca-bc55-50cc092ab8cb\")>,\n",
       " <selenium.webdriver.remote.webelement.WebElement (session=\"4cbbe1dc11e0ae6e53dac4346fadee0e\", element=\"f5f42e78-58c4-4ae9-a20f-41ea8e6c8751\")>,\n",
       " <selenium.webdriver.remote.webelement.WebElement (session=\"4cbbe1dc11e0ae6e53dac4346fadee0e\", element=\"a8cf75b0-39fc-43e4-b8f4-85b1b35af64b\")>,\n",
       " <selenium.webdriver.remote.webelement.WebElement (session=\"4cbbe1dc11e0ae6e53dac4346fadee0e\", element=\"b3e49fce-e1e2-4386-b0ff-95a8848cc426\")>,\n",
       " <selenium.webdriver.remote.webelement.WebElement (session=\"4cbbe1dc11e0ae6e53dac4346fadee0e\", element=\"b53470a9-8121-445c-bb1e-d0f41d4c00ef\")>,\n",
       " <selenium.webdriver.remote.webelement.WebElement (session=\"4cbbe1dc11e0ae6e53dac4346fadee0e\", element=\"d6044b2f-d740-4f31-81a7-b5f9ab52faf2\")>,\n",
       " <selenium.webdriver.remote.webelement.WebElement (session=\"4cbbe1dc11e0ae6e53dac4346fadee0e\", element=\"1b179075-9765-4c31-ad4a-a24b5795fe38\")>,\n",
       " <selenium.webdriver.remote.webelement.WebElement (session=\"4cbbe1dc11e0ae6e53dac4346fadee0e\", element=\"1c1c553d-0ec6-4608-a8cd-135503168862\")>,\n",
       " <selenium.webdriver.remote.webelement.WebElement (session=\"4cbbe1dc11e0ae6e53dac4346fadee0e\", element=\"ee614bc3-4d15-47e2-985f-02b06f0fe7f9\")>,\n",
       " <selenium.webdriver.remote.webelement.WebElement (session=\"4cbbe1dc11e0ae6e53dac4346fadee0e\", element=\"e738af5a-4825-4806-8486-9cf33f314cb7\")>,\n",
       " <selenium.webdriver.remote.webelement.WebElement (session=\"4cbbe1dc11e0ae6e53dac4346fadee0e\", element=\"10227201-1c01-41da-9346-c923f9d3c4bf\")>,\n",
       " <selenium.webdriver.remote.webelement.WebElement (session=\"4cbbe1dc11e0ae6e53dac4346fadee0e\", element=\"5dbd13c0-39c0-4f76-aa5b-5f5e70b5de73\")>,\n",
       " <selenium.webdriver.remote.webelement.WebElement (session=\"4cbbe1dc11e0ae6e53dac4346fadee0e\", element=\"799d1b18-d4e6-4e8a-880c-c48dfe2902d9\")>,\n",
       " <selenium.webdriver.remote.webelement.WebElement (session=\"4cbbe1dc11e0ae6e53dac4346fadee0e\", element=\"a9f1527c-b89c-4163-a054-9ee8f4784f60\")>,\n",
       " <selenium.webdriver.remote.webelement.WebElement (session=\"4cbbe1dc11e0ae6e53dac4346fadee0e\", element=\"e4f42a8c-a47f-4aef-b97c-3f8067820a69\")>,\n",
       " <selenium.webdriver.remote.webelement.WebElement (session=\"4cbbe1dc11e0ae6e53dac4346fadee0e\", element=\"210e1201-db64-4dd7-a461-6e09644d9e2a\")>,\n",
       " <selenium.webdriver.remote.webelement.WebElement (session=\"4cbbe1dc11e0ae6e53dac4346fadee0e\", element=\"1e540ae1-1f79-41cb-9f71-9a09af1e2709\")>]"
      ]
     },
     "execution_count": 11,
     "metadata": {},
     "output_type": "execute_result"
    }
   ],
   "source": [
    "# so extract all the tags having the job-title\n",
    "\n",
    "titles_tags=driver.find_elements_by_xpath(\"//a[@class='title fw500 ellipsis']\")\n",
    "titles_tags"
   ]
  },
  {
   "cell_type": "code",
   "execution_count": 12,
   "metadata": {},
   "outputs": [
    {
     "data": {
      "text/plain": [
       "['Data - BI Analyst',\n",
       " 'Consultant-Data Analyst -Bangalore',\n",
       " 'Data analyst - Google Analytics',\n",
       " 'Data Analyst',\n",
       " 'Data Analyst / Business Analyst -',\n",
       " 'Data Analyst',\n",
       " 'Data Analyst',\n",
       " 'Data Analyst',\n",
       " 'Data Analyst',\n",
       " 'Data Analyst - Informatica MDM',\n",
       " 'Data Analyst - Graphy',\n",
       " 'Data Analyst',\n",
       " 'Data Analyst',\n",
       " 'Assistant Vice President - MIS & Reporting ( Business Data Analyst)',\n",
       " 'Senior Analyst - Study Data',\n",
       " 'Analyst Data Science Analytics',\n",
       " 'Data Analytics Analyst',\n",
       " 'Business Data Analyst',\n",
       " 'Data Analyst/Data Engineer',\n",
       " 'Data Scientist / Data Analyst -Business Analyst']"
      ]
     },
     "execution_count": 12,
     "metadata": {},
     "output_type": "execute_result"
    }
   ],
   "source": [
    "# now the text of the job title is inside the tags extracted above\n",
    "# so we will run a loop to iterate over the tags extracted above and extract the text inside them\n",
    "\n",
    "job_titles=[]\n",
    "for i in titles_tags:\n",
    "    job_titles.append(i.text)\n",
    "job_titles"
   ]
  },
  {
   "cell_type": "code",
   "execution_count": 13,
   "metadata": {},
   "outputs": [],
   "source": [
    "# now we want to extract the company names"
   ]
  },
  {
   "cell_type": "code",
   "execution_count": 14,
   "metadata": {},
   "outputs": [
    {
     "data": {
      "text/plain": [
       "[<selenium.webdriver.remote.webelement.WebElement (session=\"4cbbe1dc11e0ae6e53dac4346fadee0e\", element=\"45c72a0c-30df-4b8e-a2dc-e809e7132936\")>,\n",
       " <selenium.webdriver.remote.webelement.WebElement (session=\"4cbbe1dc11e0ae6e53dac4346fadee0e\", element=\"8d082b37-a6df-4c53-b76b-1bae9d1af124\")>,\n",
       " <selenium.webdriver.remote.webelement.WebElement (session=\"4cbbe1dc11e0ae6e53dac4346fadee0e\", element=\"fc0f1092-8b39-406e-83b8-81c39ae4a782\")>,\n",
       " <selenium.webdriver.remote.webelement.WebElement (session=\"4cbbe1dc11e0ae6e53dac4346fadee0e\", element=\"bffea79d-0464-4dfa-a742-0b3806ae1f88\")>,\n",
       " <selenium.webdriver.remote.webelement.WebElement (session=\"4cbbe1dc11e0ae6e53dac4346fadee0e\", element=\"b593e3eb-b643-48cc-bb23-e0edc34e1b7f\")>,\n",
       " <selenium.webdriver.remote.webelement.WebElement (session=\"4cbbe1dc11e0ae6e53dac4346fadee0e\", element=\"ef89411d-2b80-40a5-aa65-c442895e4a5a\")>,\n",
       " <selenium.webdriver.remote.webelement.WebElement (session=\"4cbbe1dc11e0ae6e53dac4346fadee0e\", element=\"0d441bc4-bfa2-4526-bddc-2afe447d80fb\")>,\n",
       " <selenium.webdriver.remote.webelement.WebElement (session=\"4cbbe1dc11e0ae6e53dac4346fadee0e\", element=\"cd2de78c-3e3b-4b4c-b602-4a00ef3e1fbf\")>,\n",
       " <selenium.webdriver.remote.webelement.WebElement (session=\"4cbbe1dc11e0ae6e53dac4346fadee0e\", element=\"b240eca7-7c84-414b-bd40-f92112e0bded\")>,\n",
       " <selenium.webdriver.remote.webelement.WebElement (session=\"4cbbe1dc11e0ae6e53dac4346fadee0e\", element=\"f3924a04-b923-4ee2-afdc-c502608ebba3\")>,\n",
       " <selenium.webdriver.remote.webelement.WebElement (session=\"4cbbe1dc11e0ae6e53dac4346fadee0e\", element=\"81251a3f-d0ef-473e-b2e8-d90549c3f86f\")>,\n",
       " <selenium.webdriver.remote.webelement.WebElement (session=\"4cbbe1dc11e0ae6e53dac4346fadee0e\", element=\"3e3f27ae-eace-4c59-a80f-6e99c5a1a8ea\")>,\n",
       " <selenium.webdriver.remote.webelement.WebElement (session=\"4cbbe1dc11e0ae6e53dac4346fadee0e\", element=\"07e089c9-5697-4ba7-91e9-a1292dba1a69\")>,\n",
       " <selenium.webdriver.remote.webelement.WebElement (session=\"4cbbe1dc11e0ae6e53dac4346fadee0e\", element=\"0e1d47dd-57ff-42ad-b58f-2876063d4064\")>,\n",
       " <selenium.webdriver.remote.webelement.WebElement (session=\"4cbbe1dc11e0ae6e53dac4346fadee0e\", element=\"3060ffc6-1ac4-477d-ad2f-160da3b5581c\")>,\n",
       " <selenium.webdriver.remote.webelement.WebElement (session=\"4cbbe1dc11e0ae6e53dac4346fadee0e\", element=\"2710773a-832e-4e5a-a300-400f2d151fa0\")>,\n",
       " <selenium.webdriver.remote.webelement.WebElement (session=\"4cbbe1dc11e0ae6e53dac4346fadee0e\", element=\"5aaf71ad-3097-48b4-855c-0b1d9c8b2e6a\")>,\n",
       " <selenium.webdriver.remote.webelement.WebElement (session=\"4cbbe1dc11e0ae6e53dac4346fadee0e\", element=\"ab21b325-03bf-4fa7-b25a-566ffc4f65ff\")>,\n",
       " <selenium.webdriver.remote.webelement.WebElement (session=\"4cbbe1dc11e0ae6e53dac4346fadee0e\", element=\"345981ab-e643-40f7-9e5e-086ae6357ff0\")>,\n",
       " <selenium.webdriver.remote.webelement.WebElement (session=\"4cbbe1dc11e0ae6e53dac4346fadee0e\", element=\"7d459f6b-50f2-4f3e-a412-cbd97dc87c2d\")>]"
      ]
     },
     "execution_count": 14,
     "metadata": {},
     "output_type": "execute_result"
    }
   ],
   "source": [
    "companies_tags=driver.find_elements_by_xpath(\"//a[@class='subTitle ellipsis fleft']\")\n",
    "companies_tags"
   ]
  },
  {
   "cell_type": "code",
   "execution_count": 15,
   "metadata": {},
   "outputs": [
    {
     "data": {
      "text/plain": [
       "['Palo Alto Networks.',\n",
       " 'Innovsource Services Private Limited',\n",
       " 'H and M Hennes and Mauritz (P) Ltd.',\n",
       " 'Bytech India Private Limited',\n",
       " 'LatentView Analytics Private Limited',\n",
       " 'Clarivate Analytics',\n",
       " 'Liventus, Inc.',\n",
       " 'Clarivate Analytics (TRCPL Projects Pvt Ltd.)',\n",
       " 'Kwalee ltd.',\n",
       " 'Shell India Markets Private Limited',\n",
       " 'Unacademy',\n",
       " 'SA Tech Software (I) Pvt. Ltd.',\n",
       " 'Concerto.ai',\n",
       " 'INTERTRUSTVITEOS CORPORATE AND FUND SERVICES PVT. LTD.',\n",
       " 'ExecBoardinAsia',\n",
       " 'Empower Retirement',\n",
       " 'Red Hat India Pvt Ltd',\n",
       " 'ALSTOM India Limited',\n",
       " 'CORDIS TECHNOLOGY INDIA PRIVATE LIMITED',\n",
       " 'Inflexion Analytix Private Limited']"
      ]
     },
     "execution_count": 15,
     "metadata": {},
     "output_type": "execute_result"
    }
   ],
   "source": [
    "company_names=[]\n",
    "for i in companies_tags:\n",
    "    company_names.append(i.text)\n",
    "company_names"
   ]
  },
  {
   "cell_type": "code",
   "execution_count": 16,
   "metadata": {},
   "outputs": [],
   "source": [
    "#job experience"
   ]
  },
  {
   "cell_type": "code",
   "execution_count": 17,
   "metadata": {},
   "outputs": [
    {
     "data": {
      "text/plain": [
       "[<selenium.webdriver.remote.webelement.WebElement (session=\"4cbbe1dc11e0ae6e53dac4346fadee0e\", element=\"05ed0eba-9d1a-4b7e-99d3-1a5984149344\")>,\n",
       " <selenium.webdriver.remote.webelement.WebElement (session=\"4cbbe1dc11e0ae6e53dac4346fadee0e\", element=\"15696f05-e217-4c00-8436-a74f701c89f2\")>,\n",
       " <selenium.webdriver.remote.webelement.WebElement (session=\"4cbbe1dc11e0ae6e53dac4346fadee0e\", element=\"b307e6c3-ca06-4ba2-af05-02cedeeda736\")>,\n",
       " <selenium.webdriver.remote.webelement.WebElement (session=\"4cbbe1dc11e0ae6e53dac4346fadee0e\", element=\"36c2fac9-8aec-41bd-bff2-66bfa71084e0\")>,\n",
       " <selenium.webdriver.remote.webelement.WebElement (session=\"4cbbe1dc11e0ae6e53dac4346fadee0e\", element=\"7b890f1d-12b4-467d-b403-199aabe1c600\")>,\n",
       " <selenium.webdriver.remote.webelement.WebElement (session=\"4cbbe1dc11e0ae6e53dac4346fadee0e\", element=\"1ec68bb8-b848-4caf-9fd9-9d84afe1faf0\")>,\n",
       " <selenium.webdriver.remote.webelement.WebElement (session=\"4cbbe1dc11e0ae6e53dac4346fadee0e\", element=\"878d7c7f-a0b2-4aed-8497-4d176eb6fc60\")>,\n",
       " <selenium.webdriver.remote.webelement.WebElement (session=\"4cbbe1dc11e0ae6e53dac4346fadee0e\", element=\"d17e453c-c44d-4c0b-8585-1b3dfe878d4d\")>,\n",
       " <selenium.webdriver.remote.webelement.WebElement (session=\"4cbbe1dc11e0ae6e53dac4346fadee0e\", element=\"7553f71a-cf9d-4d14-90e6-98ea596e6ee8\")>,\n",
       " <selenium.webdriver.remote.webelement.WebElement (session=\"4cbbe1dc11e0ae6e53dac4346fadee0e\", element=\"9ab3593f-196d-4090-9f79-92c1d351e167\")>,\n",
       " <selenium.webdriver.remote.webelement.WebElement (session=\"4cbbe1dc11e0ae6e53dac4346fadee0e\", element=\"e6c02dde-b223-4a5f-bb5a-fec5de5dc23d\")>,\n",
       " <selenium.webdriver.remote.webelement.WebElement (session=\"4cbbe1dc11e0ae6e53dac4346fadee0e\", element=\"66a589e8-75fd-478f-8b77-675061129b1f\")>,\n",
       " <selenium.webdriver.remote.webelement.WebElement (session=\"4cbbe1dc11e0ae6e53dac4346fadee0e\", element=\"adba2032-3afa-4fa3-b9f0-a597de817004\")>,\n",
       " <selenium.webdriver.remote.webelement.WebElement (session=\"4cbbe1dc11e0ae6e53dac4346fadee0e\", element=\"f3f0d3e4-61c2-409a-93bf-8e8eff8b458d\")>,\n",
       " <selenium.webdriver.remote.webelement.WebElement (session=\"4cbbe1dc11e0ae6e53dac4346fadee0e\", element=\"cdc34c8a-ec6b-4bf9-a1a8-f0854cceda2e\")>,\n",
       " <selenium.webdriver.remote.webelement.WebElement (session=\"4cbbe1dc11e0ae6e53dac4346fadee0e\", element=\"b26fb748-1f7c-4acf-aeda-9f6a1fa7e2b5\")>,\n",
       " <selenium.webdriver.remote.webelement.WebElement (session=\"4cbbe1dc11e0ae6e53dac4346fadee0e\", element=\"c6f07e9d-65bc-404e-8ffe-85f29555cd12\")>,\n",
       " <selenium.webdriver.remote.webelement.WebElement (session=\"4cbbe1dc11e0ae6e53dac4346fadee0e\", element=\"e7d2b3eb-62b7-48ae-8f11-b08fe4cc5e7e\")>,\n",
       " <selenium.webdriver.remote.webelement.WebElement (session=\"4cbbe1dc11e0ae6e53dac4346fadee0e\", element=\"2010446d-f2c3-4109-8b5b-65d50c670577\")>,\n",
       " <selenium.webdriver.remote.webelement.WebElement (session=\"4cbbe1dc11e0ae6e53dac4346fadee0e\", element=\"dc79202d-550f-49b3-aa23-e58d005125d5\")>]"
      ]
     },
     "execution_count": 17,
     "metadata": {},
     "output_type": "execute_result"
    }
   ],
   "source": [
    "job_exp=driver.find_elements_by_xpath(\"//li[@class='fleft grey-text br2 placeHolderLi experience']\")\n",
    "job_exp"
   ]
  },
  {
   "cell_type": "code",
   "execution_count": 18,
   "metadata": {},
   "outputs": [
    {
     "data": {
      "text/plain": [
       "['3-5 Yrs',\n",
       " '2-7 Yrs',\n",
       " '4-7 Yrs',\n",
       " '3-4 Yrs',\n",
       " '1-5 Yrs',\n",
       " '1-2 Yrs',\n",
       " '3-6 Yrs',\n",
       " '1-2 Yrs',\n",
       " '2-7 Yrs',\n",
       " '6-9 Yrs',\n",
       " '1-4 Yrs',\n",
       " '1-3 Yrs',\n",
       " '3-5 Yrs',\n",
       " '12-18 Yrs',\n",
       " '5-10 Yrs',\n",
       " '2-6 Yrs',\n",
       " '3-8 Yrs',\n",
       " '5-10 Yrs',\n",
       " '1-5 Yrs',\n",
       " '0-3 Yrs']"
      ]
     },
     "execution_count": 18,
     "metadata": {},
     "output_type": "execute_result"
    }
   ],
   "source": [
    "job_experience=[]\n",
    "for i in job_exp:\n",
    "    job_experience.append(i.text)\n",
    "job_experience"
   ]
  },
  {
   "cell_type": "code",
   "execution_count": 19,
   "metadata": {},
   "outputs": [],
   "source": [
    "# extract location"
   ]
  },
  {
   "cell_type": "code",
   "execution_count": 20,
   "metadata": {},
   "outputs": [
    {
     "data": {
      "text/plain": [
       "[<selenium.webdriver.remote.webelement.WebElement (session=\"4cbbe1dc11e0ae6e53dac4346fadee0e\", element=\"1a5105eb-a60a-4856-9550-f88dc90b192a\")>,\n",
       " <selenium.webdriver.remote.webelement.WebElement (session=\"4cbbe1dc11e0ae6e53dac4346fadee0e\", element=\"b2c3c5c3-579e-4e75-9e3a-01ef815d978f\")>,\n",
       " <selenium.webdriver.remote.webelement.WebElement (session=\"4cbbe1dc11e0ae6e53dac4346fadee0e\", element=\"ff0a51c5-ec19-4654-b030-91d9f33d1ad6\")>,\n",
       " <selenium.webdriver.remote.webelement.WebElement (session=\"4cbbe1dc11e0ae6e53dac4346fadee0e\", element=\"852424b8-f643-4b43-ad4a-9b97f21f5a49\")>,\n",
       " <selenium.webdriver.remote.webelement.WebElement (session=\"4cbbe1dc11e0ae6e53dac4346fadee0e\", element=\"07233900-c1a6-4205-8503-817bd2abb687\")>,\n",
       " <selenium.webdriver.remote.webelement.WebElement (session=\"4cbbe1dc11e0ae6e53dac4346fadee0e\", element=\"50ce6d8e-b89c-4747-ae39-1562f15f8076\")>,\n",
       " <selenium.webdriver.remote.webelement.WebElement (session=\"4cbbe1dc11e0ae6e53dac4346fadee0e\", element=\"ec46de35-849e-4fca-9646-3632c23697ad\")>,\n",
       " <selenium.webdriver.remote.webelement.WebElement (session=\"4cbbe1dc11e0ae6e53dac4346fadee0e\", element=\"a35e8cb9-8bff-4419-bca5-2a7d4e8826eb\")>,\n",
       " <selenium.webdriver.remote.webelement.WebElement (session=\"4cbbe1dc11e0ae6e53dac4346fadee0e\", element=\"456012d5-27d0-405c-a194-ee4bb2ff8775\")>,\n",
       " <selenium.webdriver.remote.webelement.WebElement (session=\"4cbbe1dc11e0ae6e53dac4346fadee0e\", element=\"fbccb9eb-7194-4095-8325-fb06c3cc09a4\")>,\n",
       " <selenium.webdriver.remote.webelement.WebElement (session=\"4cbbe1dc11e0ae6e53dac4346fadee0e\", element=\"b0c36534-b26c-436c-93cc-e1f9aa1c68e2\")>,\n",
       " <selenium.webdriver.remote.webelement.WebElement (session=\"4cbbe1dc11e0ae6e53dac4346fadee0e\", element=\"6d27ff73-2f40-417a-be63-c3ba80124b7a\")>,\n",
       " <selenium.webdriver.remote.webelement.WebElement (session=\"4cbbe1dc11e0ae6e53dac4346fadee0e\", element=\"4d2e5476-4fc6-4f22-a5de-9429c66388f7\")>,\n",
       " <selenium.webdriver.remote.webelement.WebElement (session=\"4cbbe1dc11e0ae6e53dac4346fadee0e\", element=\"41f17a0d-e863-4fe3-adf8-462ea94147de\")>,\n",
       " <selenium.webdriver.remote.webelement.WebElement (session=\"4cbbe1dc11e0ae6e53dac4346fadee0e\", element=\"331fbcd1-8934-4040-809b-10a5378636c0\")>,\n",
       " <selenium.webdriver.remote.webelement.WebElement (session=\"4cbbe1dc11e0ae6e53dac4346fadee0e\", element=\"11e70304-5b10-4683-9590-09e5f05f1f38\")>,\n",
       " <selenium.webdriver.remote.webelement.WebElement (session=\"4cbbe1dc11e0ae6e53dac4346fadee0e\", element=\"9b255260-8952-4317-b8a9-e94a70cba72f\")>,\n",
       " <selenium.webdriver.remote.webelement.WebElement (session=\"4cbbe1dc11e0ae6e53dac4346fadee0e\", element=\"b27a0b0a-fd39-46f8-b44c-b5d4330fc379\")>,\n",
       " <selenium.webdriver.remote.webelement.WebElement (session=\"4cbbe1dc11e0ae6e53dac4346fadee0e\", element=\"3fd33ba6-c078-4fd9-9408-efde1a34e363\")>,\n",
       " <selenium.webdriver.remote.webelement.WebElement (session=\"4cbbe1dc11e0ae6e53dac4346fadee0e\", element=\"3b0893e2-2a70-4a0a-9e86-a447126bc9cb\")>]"
      ]
     },
     "execution_count": 20,
     "metadata": {},
     "output_type": "execute_result"
    }
   ],
   "source": [
    "locations_tags=driver.find_elements_by_xpath(\"//li[@class='fleft grey-text br2 placeHolderLi location']\")\n",
    "locations_tags"
   ]
  },
  {
   "cell_type": "code",
   "execution_count": 21,
   "metadata": {},
   "outputs": [
    {
     "data": {
      "text/plain": [
       "['Bangalore/Bengaluru',\n",
       " 'Bangalore/Bengaluru',\n",
       " 'Bangalore/Bengaluru',\n",
       " 'Bangalore/Bengaluru, Delhi / NCR',\n",
       " 'Chennai, Bangalore/Bengaluru',\n",
       " 'Bangalore/Bengaluru',\n",
       " 'Bangalore/Bengaluru(2nd Phase JP Nagar)',\n",
       " 'Bangalore/Bengaluru',\n",
       " 'Bangalore/Bengaluru',\n",
       " 'Bangalore/Bengaluru',\n",
       " 'Bangalore/Bengaluru',\n",
       " 'Kolkata, Pune, Chennai, Bangalore/Bengaluru, Delhi / NCR, Mumbai (All Areas)',\n",
       " 'Bangalore/Bengaluru',\n",
       " 'Mumbai, Bangalore/Bengaluru',\n",
       " 'Bangalore/Bengaluru',\n",
       " 'Bangalore/Bengaluru, Remote',\n",
       " 'Bangalore/Bengaluru',\n",
       " 'Bangalore/Bengaluru',\n",
       " 'Bangalore/Bengaluru',\n",
       " 'Mumbai, Hyderabad/Secunderabad, Pune, Gurgaon/Gurugram, Chennai, Bangalore/Bengaluru']"
      ]
     },
     "execution_count": 21,
     "metadata": {},
     "output_type": "execute_result"
    }
   ],
   "source": [
    "locations_list=[]\n",
    "for i in locations_tags:\n",
    "    locations_list.append(i.text)\n",
    "locations_list"
   ]
  },
  {
   "cell_type": "code",
   "execution_count": 22,
   "metadata": {},
   "outputs": [
    {
     "data": {
      "text/html": [
       "<div>\n",
       "<style scoped>\n",
       "    .dataframe tbody tr th:only-of-type {\n",
       "        vertical-align: middle;\n",
       "    }\n",
       "\n",
       "    .dataframe tbody tr th {\n",
       "        vertical-align: top;\n",
       "    }\n",
       "\n",
       "    .dataframe thead th {\n",
       "        text-align: right;\n",
       "    }\n",
       "</style>\n",
       "<table border=\"1\" class=\"dataframe\">\n",
       "  <thead>\n",
       "    <tr style=\"text-align: right;\">\n",
       "      <th></th>\n",
       "      <th>title</th>\n",
       "      <th>company</th>\n",
       "      <th>job experience</th>\n",
       "      <th>location</th>\n",
       "    </tr>\n",
       "  </thead>\n",
       "  <tbody>\n",
       "    <tr>\n",
       "      <th>0</th>\n",
       "      <td>Data - BI Analyst</td>\n",
       "      <td>Palo Alto Networks.</td>\n",
       "      <td>3-5 Yrs</td>\n",
       "      <td>Bangalore/Bengaluru</td>\n",
       "    </tr>\n",
       "    <tr>\n",
       "      <th>1</th>\n",
       "      <td>Consultant-Data Analyst -Bangalore</td>\n",
       "      <td>Innovsource Services Private Limited</td>\n",
       "      <td>2-7 Yrs</td>\n",
       "      <td>Bangalore/Bengaluru</td>\n",
       "    </tr>\n",
       "    <tr>\n",
       "      <th>2</th>\n",
       "      <td>Data analyst - Google Analytics</td>\n",
       "      <td>H and M Hennes and Mauritz (P) Ltd.</td>\n",
       "      <td>4-7 Yrs</td>\n",
       "      <td>Bangalore/Bengaluru</td>\n",
       "    </tr>\n",
       "    <tr>\n",
       "      <th>3</th>\n",
       "      <td>Data Analyst</td>\n",
       "      <td>Bytech India Private Limited</td>\n",
       "      <td>3-4 Yrs</td>\n",
       "      <td>Bangalore/Bengaluru, Delhi / NCR</td>\n",
       "    </tr>\n",
       "    <tr>\n",
       "      <th>4</th>\n",
       "      <td>Data Analyst / Business Analyst -</td>\n",
       "      <td>LatentView Analytics Private Limited</td>\n",
       "      <td>1-5 Yrs</td>\n",
       "      <td>Chennai, Bangalore/Bengaluru</td>\n",
       "    </tr>\n",
       "    <tr>\n",
       "      <th>5</th>\n",
       "      <td>Data Analyst</td>\n",
       "      <td>Clarivate Analytics</td>\n",
       "      <td>1-2 Yrs</td>\n",
       "      <td>Bangalore/Bengaluru</td>\n",
       "    </tr>\n",
       "    <tr>\n",
       "      <th>6</th>\n",
       "      <td>Data Analyst</td>\n",
       "      <td>Liventus, Inc.</td>\n",
       "      <td>3-6 Yrs</td>\n",
       "      <td>Bangalore/Bengaluru(2nd Phase JP Nagar)</td>\n",
       "    </tr>\n",
       "    <tr>\n",
       "      <th>7</th>\n",
       "      <td>Data Analyst</td>\n",
       "      <td>Clarivate Analytics (TRCPL Projects Pvt Ltd.)</td>\n",
       "      <td>1-2 Yrs</td>\n",
       "      <td>Bangalore/Bengaluru</td>\n",
       "    </tr>\n",
       "    <tr>\n",
       "      <th>8</th>\n",
       "      <td>Data Analyst</td>\n",
       "      <td>Kwalee ltd.</td>\n",
       "      <td>2-7 Yrs</td>\n",
       "      <td>Bangalore/Bengaluru</td>\n",
       "    </tr>\n",
       "    <tr>\n",
       "      <th>9</th>\n",
       "      <td>Data Analyst - Informatica MDM</td>\n",
       "      <td>Shell India Markets Private Limited</td>\n",
       "      <td>6-9 Yrs</td>\n",
       "      <td>Bangalore/Bengaluru</td>\n",
       "    </tr>\n",
       "  </tbody>\n",
       "</table>\n",
       "</div>"
      ],
      "text/plain": [
       "                                title  \\\n",
       "0                   Data - BI Analyst   \n",
       "1  Consultant-Data Analyst -Bangalore   \n",
       "2     Data analyst - Google Analytics   \n",
       "3                        Data Analyst   \n",
       "4   Data Analyst / Business Analyst -   \n",
       "5                        Data Analyst   \n",
       "6                        Data Analyst   \n",
       "7                        Data Analyst   \n",
       "8                        Data Analyst   \n",
       "9      Data Analyst - Informatica MDM   \n",
       "\n",
       "                                         company job experience  \\\n",
       "0                            Palo Alto Networks.        3-5 Yrs   \n",
       "1           Innovsource Services Private Limited        2-7 Yrs   \n",
       "2            H and M Hennes and Mauritz (P) Ltd.        4-7 Yrs   \n",
       "3                   Bytech India Private Limited        3-4 Yrs   \n",
       "4           LatentView Analytics Private Limited        1-5 Yrs   \n",
       "5                            Clarivate Analytics        1-2 Yrs   \n",
       "6                                 Liventus, Inc.        3-6 Yrs   \n",
       "7  Clarivate Analytics (TRCPL Projects Pvt Ltd.)        1-2 Yrs   \n",
       "8                                    Kwalee ltd.        2-7 Yrs   \n",
       "9            Shell India Markets Private Limited        6-9 Yrs   \n",
       "\n",
       "                                  location  \n",
       "0                      Bangalore/Bengaluru  \n",
       "1                      Bangalore/Bengaluru  \n",
       "2                      Bangalore/Bengaluru  \n",
       "3         Bangalore/Bengaluru, Delhi / NCR  \n",
       "4             Chennai, Bangalore/Bengaluru  \n",
       "5                      Bangalore/Bengaluru  \n",
       "6  Bangalore/Bengaluru(2nd Phase JP Nagar)  \n",
       "7                      Bangalore/Bengaluru  \n",
       "8                      Bangalore/Bengaluru  \n",
       "9                      Bangalore/Bengaluru  "
      ]
     },
     "execution_count": 22,
     "metadata": {},
     "output_type": "execute_result"
    }
   ],
   "source": [
    "import pandas as pd\n",
    "jobs=pd.DataFrame({})\n",
    "jobs['title']=job_titles[:10]\n",
    "jobs['company']=company_names[:10]\n",
    "jobs['job experience']=job_experience[:10]\n",
    "jobs['location']=locations_list[:10]\n",
    "jobs"
   ]
  },
  {
   "cell_type": "code",
   "execution_count": null,
   "metadata": {},
   "outputs": [],
   "source": []
  }
 ],
 "metadata": {
  "kernelspec": {
   "display_name": "Python 3",
   "language": "python",
   "name": "python3"
  },
  "language_info": {
   "codemirror_mode": {
    "name": "ipython",
    "version": 3
   },
   "file_extension": ".py",
   "mimetype": "text/x-python",
   "name": "python",
   "nbconvert_exporter": "python",
   "pygments_lexer": "ipython3",
   "version": "3.8.5"
  }
 },
 "nbformat": 4,
 "nbformat_minor": 4
}
