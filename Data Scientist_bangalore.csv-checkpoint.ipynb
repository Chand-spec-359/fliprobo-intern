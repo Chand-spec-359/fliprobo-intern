{
 "cells": [
  {
   "cell_type": "code",
   "execution_count": 1,
   "metadata": {},
   "outputs": [
    {
     "name": "stdout",
     "output_type": "stream",
     "text": [
      "Collecting selenium\n",
      "  Downloading selenium-3.141.0-py2.py3-none-any.whl (904 kB)\n",
      "Requirement already satisfied: urllib3 in c:\\users\\chand sharma\\anaconda3\\lib\\site-packages (from selenium) (1.25.11)\n",
      "Installing collected packages: selenium\n",
      "Successfully installed selenium-3.141.0\n"
     ]
    }
   ],
   "source": [
    "! pip install selenium"
   ]
  },
  {
   "cell_type": "code",
   "execution_count": 2,
   "metadata": {},
   "outputs": [],
   "source": [
    "import selenium\n",
    "import pandas as pd\n",
    "from selenium import webdriver"
   ]
  },
  {
   "cell_type": "code",
   "execution_count": 4,
   "metadata": {},
   "outputs": [],
   "source": [
    "driver= webdriver.Chrome('chromedriver.exe')"
   ]
  },
  {
   "cell_type": "code",
   "execution_count": 5,
   "metadata": {},
   "outputs": [],
   "source": [
    "url='https://www.naukri.com/'\n",
    "driver.get(url)"
   ]
  },
  {
   "cell_type": "code",
   "execution_count": 6,
   "metadata": {},
   "outputs": [
    {
     "data": {
      "text/plain": [
       "<selenium.webdriver.remote.webelement.WebElement (session=\"38387c856fba1d4e074a044f2a15df06\", element=\"de3f40ec-fe14-4dd5-b313-85583761657e\")>"
      ]
     },
     "execution_count": 6,
     "metadata": {},
     "output_type": "execute_result"
    }
   ],
   "source": [
    "search_job= driver.find_element_by_id('qsb-keyword-sugg')\n",
    "search_job"
   ]
  },
  {
   "cell_type": "code",
   "execution_count": 7,
   "metadata": {},
   "outputs": [],
   "source": [
    "#write on search bar\n",
    "search_job.send_keys('Data Scientist')"
   ]
  },
  {
   "cell_type": "code",
   "execution_count": 8,
   "metadata": {},
   "outputs": [],
   "source": [
    "#finding element for job location bar\n",
    "search_loc= driver.find_element_by_id('qsb-location-sugg')\n",
    "search_loc.send_keys('Bangalore')"
   ]
  },
  {
   "cell_type": "code",
   "execution_count": 9,
   "metadata": {},
   "outputs": [],
   "source": [
    "# do click using xpath function\n",
    "\n",
    "search_btn= driver.find_element_by_xpath(\"//button[@class='btn']\")\n",
    "search_btn.click()"
   ]
  },
  {
   "cell_type": "code",
   "execution_count": 10,
   "metadata": {},
   "outputs": [
    {
     "data": {
      "text/plain": [
       "[<selenium.webdriver.remote.webelement.WebElement (session=\"38387c856fba1d4e074a044f2a15df06\", element=\"826bb20e-3844-492c-bca1-ca29f784a053\")>,\n",
       " <selenium.webdriver.remote.webelement.WebElement (session=\"38387c856fba1d4e074a044f2a15df06\", element=\"320cb024-c9ca-43ea-a135-203b8ca12c8d\")>,\n",
       " <selenium.webdriver.remote.webelement.WebElement (session=\"38387c856fba1d4e074a044f2a15df06\", element=\"f7455435-711a-42a5-8705-1289971a9932\")>,\n",
       " <selenium.webdriver.remote.webelement.WebElement (session=\"38387c856fba1d4e074a044f2a15df06\", element=\"ed95c3b4-2579-42d1-883d-f255f9f0b225\")>,\n",
       " <selenium.webdriver.remote.webelement.WebElement (session=\"38387c856fba1d4e074a044f2a15df06\", element=\"acffe3bd-d865-4f37-9c6f-7f5199b0bcf1\")>,\n",
       " <selenium.webdriver.remote.webelement.WebElement (session=\"38387c856fba1d4e074a044f2a15df06\", element=\"6a10634a-4792-4fb5-9b3e-c4e989a09ea7\")>,\n",
       " <selenium.webdriver.remote.webelement.WebElement (session=\"38387c856fba1d4e074a044f2a15df06\", element=\"1ea61f2f-2d43-4915-af8b-fbdb1183cfaf\")>,\n",
       " <selenium.webdriver.remote.webelement.WebElement (session=\"38387c856fba1d4e074a044f2a15df06\", element=\"da3db54b-6290-4589-9dbb-3ba0006db4c5\")>,\n",
       " <selenium.webdriver.remote.webelement.WebElement (session=\"38387c856fba1d4e074a044f2a15df06\", element=\"251acfee-6264-4266-928f-b5ae8f93bde4\")>,\n",
       " <selenium.webdriver.remote.webelement.WebElement (session=\"38387c856fba1d4e074a044f2a15df06\", element=\"41526270-bd19-41c3-b16a-635cbc779ae2\")>,\n",
       " <selenium.webdriver.remote.webelement.WebElement (session=\"38387c856fba1d4e074a044f2a15df06\", element=\"0c4401c9-0f90-4e5d-8dbb-c46af66243ae\")>,\n",
       " <selenium.webdriver.remote.webelement.WebElement (session=\"38387c856fba1d4e074a044f2a15df06\", element=\"520c6732-3fdb-4930-b73b-046034b8329b\")>,\n",
       " <selenium.webdriver.remote.webelement.WebElement (session=\"38387c856fba1d4e074a044f2a15df06\", element=\"fa6b9bb9-5280-4ad4-aca9-0bcf41e1c783\")>,\n",
       " <selenium.webdriver.remote.webelement.WebElement (session=\"38387c856fba1d4e074a044f2a15df06\", element=\"16986562-667f-40e5-a397-933db9e433a6\")>,\n",
       " <selenium.webdriver.remote.webelement.WebElement (session=\"38387c856fba1d4e074a044f2a15df06\", element=\"74dee192-9732-4d60-b241-20e30da1e121\")>,\n",
       " <selenium.webdriver.remote.webelement.WebElement (session=\"38387c856fba1d4e074a044f2a15df06\", element=\"48db4b4b-1d28-423d-a245-76bc757ffbe4\")>,\n",
       " <selenium.webdriver.remote.webelement.WebElement (session=\"38387c856fba1d4e074a044f2a15df06\", element=\"05e17135-f9ca-4ac6-894e-352d1bc7ff24\")>,\n",
       " <selenium.webdriver.remote.webelement.WebElement (session=\"38387c856fba1d4e074a044f2a15df06\", element=\"e706ff40-4120-4ef2-953c-d966e22915ae\")>,\n",
       " <selenium.webdriver.remote.webelement.WebElement (session=\"38387c856fba1d4e074a044f2a15df06\", element=\"519cb122-7338-4fd5-9107-c9dfe83aab61\")>,\n",
       " <selenium.webdriver.remote.webelement.WebElement (session=\"38387c856fba1d4e074a044f2a15df06\", element=\"b147c669-f212-46f9-85f9-7b6adb16aa20\")>]"
      ]
     },
     "execution_count": 10,
     "metadata": {},
     "output_type": "execute_result"
    }
   ],
   "source": [
    "# so extract all the tags having the job-title\n",
    "\n",
    "titles_tags=driver.find_elements_by_xpath(\"//a[@class='title fw500 ellipsis']\")\n",
    "titles_tags"
   ]
  },
  {
   "cell_type": "code",
   "execution_count": 11,
   "metadata": {},
   "outputs": [
    {
     "data": {
      "text/plain": [
       "['Data Scientist / Data Analyst -Business Analyst',\n",
       " 'Data Scientist',\n",
       " 'Big Data - Data Scientist',\n",
       " 'Specialist I - Data Scientist',\n",
       " 'Data Scientist',\n",
       " 'Lead Data Scientist',\n",
       " 'Data Scientist',\n",
       " 'SDE Lead Data Scientist-L3',\n",
       " 'Computational Design Lead Data Scientist-L3',\n",
       " 'Hiring For DATA Scientist - ON Contract Basis (3-6 Months)',\n",
       " 'Senior Data Scientist',\n",
       " 'Senior Data Scientist',\n",
       " 'Sr. Data Scientist',\n",
       " 'Senior Data Scientist',\n",
       " 'Senior Data Scientist',\n",
       " 'Senior Associate/Team Lead - Data Scientist Consulting',\n",
       " 'Senior Data Scientist',\n",
       " 'Data Scientist',\n",
       " 'Sr Data Scientist, Payments',\n",
       " 'Hiring For Lead data Scientist For Bangalore location']"
      ]
     },
     "execution_count": 11,
     "metadata": {},
     "output_type": "execute_result"
    }
   ],
   "source": [
    "# now the text of the job title is inside the tags extracted above\n",
    "# so we will run a loop to iterate over the tags extracted above and extract the text inside them\n",
    "\n",
    "job_titles=[]\n",
    "for i in titles_tags:\n",
    "    job_titles.append(i.text)\n",
    "job_titles"
   ]
  },
  {
   "cell_type": "code",
   "execution_count": 12,
   "metadata": {},
   "outputs": [],
   "source": [
    "# now we want to extract the company names"
   ]
  },
  {
   "cell_type": "code",
   "execution_count": 13,
   "metadata": {},
   "outputs": [
    {
     "data": {
      "text/plain": [
       "[<selenium.webdriver.remote.webelement.WebElement (session=\"38387c856fba1d4e074a044f2a15df06\", element=\"44f7179c-aeb1-42ce-a8f3-ea6959366df2\")>,\n",
       " <selenium.webdriver.remote.webelement.WebElement (session=\"38387c856fba1d4e074a044f2a15df06\", element=\"aa528778-ab2b-4034-b995-7b4f5db9e6dd\")>,\n",
       " <selenium.webdriver.remote.webelement.WebElement (session=\"38387c856fba1d4e074a044f2a15df06\", element=\"c959e037-a020-4681-9001-853b950cde3e\")>,\n",
       " <selenium.webdriver.remote.webelement.WebElement (session=\"38387c856fba1d4e074a044f2a15df06\", element=\"810396d5-9420-4cac-9b33-eaf1e078b35c\")>,\n",
       " <selenium.webdriver.remote.webelement.WebElement (session=\"38387c856fba1d4e074a044f2a15df06\", element=\"62940cec-a58f-4230-87e6-e9e854c7170b\")>,\n",
       " <selenium.webdriver.remote.webelement.WebElement (session=\"38387c856fba1d4e074a044f2a15df06\", element=\"a17be348-986b-4670-a7ae-90e3762fb378\")>,\n",
       " <selenium.webdriver.remote.webelement.WebElement (session=\"38387c856fba1d4e074a044f2a15df06\", element=\"f20c091a-bdae-4991-a02e-f15433553de0\")>,\n",
       " <selenium.webdriver.remote.webelement.WebElement (session=\"38387c856fba1d4e074a044f2a15df06\", element=\"5bd8b099-518b-4c33-8bbc-d24e55a4eaf5\")>,\n",
       " <selenium.webdriver.remote.webelement.WebElement (session=\"38387c856fba1d4e074a044f2a15df06\", element=\"1b705f18-e23a-4e71-b69a-6617cba3a2d4\")>,\n",
       " <selenium.webdriver.remote.webelement.WebElement (session=\"38387c856fba1d4e074a044f2a15df06\", element=\"87981ae3-73b8-4190-9594-7f2ea45884a1\")>,\n",
       " <selenium.webdriver.remote.webelement.WebElement (session=\"38387c856fba1d4e074a044f2a15df06\", element=\"876e81ec-3a78-4fbc-9519-5b5c4ac42a51\")>,\n",
       " <selenium.webdriver.remote.webelement.WebElement (session=\"38387c856fba1d4e074a044f2a15df06\", element=\"b91236f8-679c-4084-a126-1d9ab3681bff\")>,\n",
       " <selenium.webdriver.remote.webelement.WebElement (session=\"38387c856fba1d4e074a044f2a15df06\", element=\"5953a3cd-71b2-47a1-aa79-eb06fcf97d8f\")>,\n",
       " <selenium.webdriver.remote.webelement.WebElement (session=\"38387c856fba1d4e074a044f2a15df06\", element=\"295d2e52-e3fd-43c2-9afc-28f0df3939c1\")>,\n",
       " <selenium.webdriver.remote.webelement.WebElement (session=\"38387c856fba1d4e074a044f2a15df06\", element=\"0c3f78f4-4485-47b1-960f-94bfe2163cba\")>,\n",
       " <selenium.webdriver.remote.webelement.WebElement (session=\"38387c856fba1d4e074a044f2a15df06\", element=\"3dc3de5d-ec45-4b3a-a26a-f575c1174a1c\")>,\n",
       " <selenium.webdriver.remote.webelement.WebElement (session=\"38387c856fba1d4e074a044f2a15df06\", element=\"8f2a3743-3d53-4d85-b3b7-8e5130af6d1d\")>,\n",
       " <selenium.webdriver.remote.webelement.WebElement (session=\"38387c856fba1d4e074a044f2a15df06\", element=\"96b141fd-9011-41ae-a2c0-79eae8b656a9\")>,\n",
       " <selenium.webdriver.remote.webelement.WebElement (session=\"38387c856fba1d4e074a044f2a15df06\", element=\"bd433131-e998-4382-bf7a-532e34f97d8b\")>,\n",
       " <selenium.webdriver.remote.webelement.WebElement (session=\"38387c856fba1d4e074a044f2a15df06\", element=\"d1f4dc7f-4c22-4fd4-bba0-70e3af8f2ecb\")>]"
      ]
     },
     "execution_count": 13,
     "metadata": {},
     "output_type": "execute_result"
    }
   ],
   "source": [
    "companies_tags=driver.find_elements_by_xpath(\"//a[@class='subTitle ellipsis fleft']\")\n",
    "companies_tags"
   ]
  },
  {
   "cell_type": "code",
   "execution_count": 14,
   "metadata": {},
   "outputs": [
    {
     "data": {
      "text/plain": [
       "['Inflexion Analytix Private Limited',\n",
       " 'Wipro Limited',\n",
       " 'Xoriant Solutions Pvt Ltd',\n",
       " 'Philips India Limited',\n",
       " 'IBM India Pvt. Limited',\n",
       " 'Intel Technology India Pvt Ltd',\n",
       " 'Oracle India Pvt. Ltd.',\n",
       " 'Huawei Technologies India Pvt Ltd',\n",
       " 'Huawei Technologies India Pvt Ltd',\n",
       " 'GlobalEdx Learning and Technology Solution Pvt Ltd',\n",
       " 'GO-JEK India',\n",
       " 'nanobi data and analytics private limited',\n",
       " 'VALIANCE ANALYTICS PRIVATE LIMITED',\n",
       " 'BankBazaar.com (A&A DUKAAN FINANCIAL SERVICES PVT. LTD)',\n",
       " 'Kwalee',\n",
       " 'Analytics India Magazine',\n",
       " 'Gojek Tech',\n",
       " 'Applied Materials',\n",
       " 'AIRBNB GLOBAL CAPABILITY CENTER PRIVATE LIMITED',\n",
       " 'Societe Generale']"
      ]
     },
     "execution_count": 14,
     "metadata": {},
     "output_type": "execute_result"
    }
   ],
   "source": [
    "company_names=[]\n",
    "for i in companies_tags:\n",
    "    company_names.append(i.text)\n",
    "company_names"
   ]
  },
  {
   "cell_type": "code",
   "execution_count": 15,
   "metadata": {},
   "outputs": [],
   "source": [
    "# job full description"
   ]
  },
  {
   "cell_type": "code",
   "execution_count": 23,
   "metadata": {},
   "outputs": [
    {
     "data": {
      "text/plain": [
       "[<selenium.webdriver.remote.webelement.WebElement (session=\"38387c856fba1d4e074a044f2a15df06\", element=\"908e86c8-323a-421a-972b-bef8d6ed776e\")>,\n",
       " <selenium.webdriver.remote.webelement.WebElement (session=\"38387c856fba1d4e074a044f2a15df06\", element=\"075259b9-cb37-4009-8db0-b92351ae5de1\")>,\n",
       " <selenium.webdriver.remote.webelement.WebElement (session=\"38387c856fba1d4e074a044f2a15df06\", element=\"0bf26a10-a274-46e9-ae8a-e87037cc56ad\")>,\n",
       " <selenium.webdriver.remote.webelement.WebElement (session=\"38387c856fba1d4e074a044f2a15df06\", element=\"efa4b5c6-69d8-451e-a6bc-76425f45816a\")>,\n",
       " <selenium.webdriver.remote.webelement.WebElement (session=\"38387c856fba1d4e074a044f2a15df06\", element=\"95c9de3a-7749-495c-9e5c-abd5bfbb902b\")>,\n",
       " <selenium.webdriver.remote.webelement.WebElement (session=\"38387c856fba1d4e074a044f2a15df06\", element=\"6516bb68-0457-4bbc-8c9d-99e87d64fe3e\")>,\n",
       " <selenium.webdriver.remote.webelement.WebElement (session=\"38387c856fba1d4e074a044f2a15df06\", element=\"01fa54d5-5f8a-4900-a9f2-3688d50f00ea\")>,\n",
       " <selenium.webdriver.remote.webelement.WebElement (session=\"38387c856fba1d4e074a044f2a15df06\", element=\"7d78107a-482d-476f-85d2-96509b2c52d1\")>,\n",
       " <selenium.webdriver.remote.webelement.WebElement (session=\"38387c856fba1d4e074a044f2a15df06\", element=\"cfa05567-0f1b-4a18-bae0-ee512b524f06\")>,\n",
       " <selenium.webdriver.remote.webelement.WebElement (session=\"38387c856fba1d4e074a044f2a15df06\", element=\"80d1290c-829a-4fac-8416-acb2a36a4880\")>,\n",
       " <selenium.webdriver.remote.webelement.WebElement (session=\"38387c856fba1d4e074a044f2a15df06\", element=\"e34b784d-8498-4c49-8c64-852ffb0f2557\")>,\n",
       " <selenium.webdriver.remote.webelement.WebElement (session=\"38387c856fba1d4e074a044f2a15df06\", element=\"5a283e96-ce91-40d4-bc4a-bd0c35297a98\")>,\n",
       " <selenium.webdriver.remote.webelement.WebElement (session=\"38387c856fba1d4e074a044f2a15df06\", element=\"b42daa00-85c4-4c6c-b0ba-cbbac755872f\")>,\n",
       " <selenium.webdriver.remote.webelement.WebElement (session=\"38387c856fba1d4e074a044f2a15df06\", element=\"492c94bd-b8a1-47d9-9ca1-532561a2c9a7\")>,\n",
       " <selenium.webdriver.remote.webelement.WebElement (session=\"38387c856fba1d4e074a044f2a15df06\", element=\"66198232-0ee1-4434-b28c-1be2ff9dbb6e\")>,\n",
       " <selenium.webdriver.remote.webelement.WebElement (session=\"38387c856fba1d4e074a044f2a15df06\", element=\"05d2dd6a-5d5d-4c55-bb65-f23218df0c2a\")>,\n",
       " <selenium.webdriver.remote.webelement.WebElement (session=\"38387c856fba1d4e074a044f2a15df06\", element=\"3d96cba0-0a11-4bd9-a1e7-5e8f404db278\")>,\n",
       " <selenium.webdriver.remote.webelement.WebElement (session=\"38387c856fba1d4e074a044f2a15df06\", element=\"dc34cc20-c136-48fc-a587-398e348f318c\")>,\n",
       " <selenium.webdriver.remote.webelement.WebElement (session=\"38387c856fba1d4e074a044f2a15df06\", element=\"7e28552e-30e5-4f1e-82fb-e1af69d1a490\")>,\n",
       " <selenium.webdriver.remote.webelement.WebElement (session=\"38387c856fba1d4e074a044f2a15df06\", element=\"667330d5-c674-494d-978e-0430d28f9d47\")>]"
      ]
     },
     "execution_count": 23,
     "metadata": {},
     "output_type": "execute_result"
    }
   ],
   "source": [
    "job_desc=driver.find_elements_by_xpath(\"//div[@class='job-description fs12 grey-text']\")\n",
    "job_desc"
   ]
  },
  {
   "cell_type": "code",
   "execution_count": 21,
   "metadata": {},
   "outputs": [
    {
     "data": {
      "text/plain": [
       "['Applications invited from all Freshers and experienced candidates (0-3 yrs) aspiring to...',\n",
       " 'Good statistical analysis skills for data pre-processing and data wrangling Experience ...',\n",
       " 'High motivation, good work ethic and maturityMinimum 1-3 yrs of proven project experien...',\n",
       " 'Responsibilities and Key Result Areas Design and develop project prototypes and solutio...',\n",
       " 'modeling and business system design with experience in relational SQL and NoSQL databas...',\n",
       " 'Experience in using data analysis techniques and ML methods like classification, regres...',\n",
       " 'Roles and Responsibilities Looking for 6+ yrs of experience in data science, predictive...',\n",
       " 'Strong hands-on experience in implementing and validating big data algorithms and model...',\n",
       " 'Business & Team overview:Founded in 1987, Huawei is a leading global provider of ICT (i...',\n",
       " 'Experience : 3+ Years',\n",
       " 'About the Role Fasten your helmet and climb on board if youre ready to be our Senior Da...',\n",
       " 'These will be across industries and functions and must be designed generically to handl...',\n",
       " 'Programming Language: Python / SQL (Must)',\n",
       " 'Preferable to have Masters in a numerate subject such as Mathematics, Operational Resea...',\n",
       " 'Experience with AWS - Redshift, EC2, Lambda 5+Years experience using Python for data an...',\n",
       " 'We should also let you know we put a premium on a few personality traits: - You are a p...',\n",
       " 'What You Will Do Build machine learning models that generate or foster answers to some ...',\n",
       " 'Education: Bachelors Degree analyzes possible solutions using technical experience and ...',\n",
       " '4+ years industry experience in a quantitative analysis roleExperience in Payments a st...',\n",
       " 'We are hiring for Lead data Scientist for Bangalore location Skills and QualificationsB...']"
      ]
     },
     "execution_count": 21,
     "metadata": {},
     "output_type": "execute_result"
    }
   ],
   "source": [
    "job_description=[]\n",
    "for i in job_desc:\n",
    "    job_description.append(i.text)\n",
    "job_description"
   ]
  },
  {
   "cell_type": "code",
   "execution_count": 24,
   "metadata": {},
   "outputs": [],
   "source": [
    "# extract location"
   ]
  },
  {
   "cell_type": "code",
   "execution_count": 25,
   "metadata": {},
   "outputs": [
    {
     "data": {
      "text/plain": [
       "[<selenium.webdriver.remote.webelement.WebElement (session=\"38387c856fba1d4e074a044f2a15df06\", element=\"bb736f95-0254-4d12-ae82-a45af6291d27\")>,\n",
       " <selenium.webdriver.remote.webelement.WebElement (session=\"38387c856fba1d4e074a044f2a15df06\", element=\"3d0e4f9e-6143-48fd-bb39-9f9364c89d93\")>,\n",
       " <selenium.webdriver.remote.webelement.WebElement (session=\"38387c856fba1d4e074a044f2a15df06\", element=\"5e85a1b8-eef8-43fa-9f30-875c9fdf4015\")>,\n",
       " <selenium.webdriver.remote.webelement.WebElement (session=\"38387c856fba1d4e074a044f2a15df06\", element=\"caeea00d-d262-4b15-b947-62c3475e0e4e\")>,\n",
       " <selenium.webdriver.remote.webelement.WebElement (session=\"38387c856fba1d4e074a044f2a15df06\", element=\"734b95d5-928c-44d5-86c6-1f71d2abb4b6\")>,\n",
       " <selenium.webdriver.remote.webelement.WebElement (session=\"38387c856fba1d4e074a044f2a15df06\", element=\"a942652b-09f9-4705-837d-90b24370b380\")>,\n",
       " <selenium.webdriver.remote.webelement.WebElement (session=\"38387c856fba1d4e074a044f2a15df06\", element=\"f881bf81-f1c6-4867-8df8-d07c3fc432a7\")>,\n",
       " <selenium.webdriver.remote.webelement.WebElement (session=\"38387c856fba1d4e074a044f2a15df06\", element=\"2dfc3296-ae4f-4967-a9a6-8d6c7787503a\")>,\n",
       " <selenium.webdriver.remote.webelement.WebElement (session=\"38387c856fba1d4e074a044f2a15df06\", element=\"192a0701-3af0-4f6d-9410-e57813cf78f4\")>,\n",
       " <selenium.webdriver.remote.webelement.WebElement (session=\"38387c856fba1d4e074a044f2a15df06\", element=\"9dc68cab-f54e-4d69-9863-df75942f0899\")>,\n",
       " <selenium.webdriver.remote.webelement.WebElement (session=\"38387c856fba1d4e074a044f2a15df06\", element=\"7851f42c-b515-4481-907e-aa7ab5b7f20a\")>,\n",
       " <selenium.webdriver.remote.webelement.WebElement (session=\"38387c856fba1d4e074a044f2a15df06\", element=\"81d4fcd7-6314-46e4-92da-fccef25b6edb\")>,\n",
       " <selenium.webdriver.remote.webelement.WebElement (session=\"38387c856fba1d4e074a044f2a15df06\", element=\"fff41fa0-02b3-45fa-bb76-7e5ce0ab01e2\")>,\n",
       " <selenium.webdriver.remote.webelement.WebElement (session=\"38387c856fba1d4e074a044f2a15df06\", element=\"83028f61-f4d0-4091-bed8-e31dc266e9d1\")>,\n",
       " <selenium.webdriver.remote.webelement.WebElement (session=\"38387c856fba1d4e074a044f2a15df06\", element=\"aacdc8e3-aa61-4a5f-8ead-a9f05300c534\")>,\n",
       " <selenium.webdriver.remote.webelement.WebElement (session=\"38387c856fba1d4e074a044f2a15df06\", element=\"47290193-de98-4a73-a519-5ae97f8d42c7\")>,\n",
       " <selenium.webdriver.remote.webelement.WebElement (session=\"38387c856fba1d4e074a044f2a15df06\", element=\"f17bfbf3-583e-483f-a130-f32dd0bb1e7f\")>,\n",
       " <selenium.webdriver.remote.webelement.WebElement (session=\"38387c856fba1d4e074a044f2a15df06\", element=\"ef4c09b2-3872-4abf-b0fe-53db3313759c\")>,\n",
       " <selenium.webdriver.remote.webelement.WebElement (session=\"38387c856fba1d4e074a044f2a15df06\", element=\"62112822-f2c3-4508-a190-0d58e885086d\")>,\n",
       " <selenium.webdriver.remote.webelement.WebElement (session=\"38387c856fba1d4e074a044f2a15df06\", element=\"d8cf5802-dc97-4549-adfc-41a3466f7c06\")>]"
      ]
     },
     "execution_count": 25,
     "metadata": {},
     "output_type": "execute_result"
    }
   ],
   "source": [
    "locations_tags=driver.find_elements_by_xpath(\"//li[@class='fleft grey-text br2 placeHolderLi location']\")\n",
    "locations_tags"
   ]
  },
  {
   "cell_type": "code",
   "execution_count": 26,
   "metadata": {},
   "outputs": [
    {
     "data": {
      "text/plain": [
       "['Mumbai, Hyderabad/Secunderabad, Pune, Gurgaon/Gurugram, Chennai, Bangalore/Bengaluru',\n",
       " 'Kolkata, Hyderabad/Secunderabad, Chennai, Bangalore/Bengaluru',\n",
       " 'Kochi/Cochin, Indore, Hyderabad/Secunderabad, Pune, Ahmedabad, Bangalore/Bengaluru, Mumbai (All Areas)',\n",
       " 'Bangalore/Bengaluru',\n",
       " 'Bangalore/Bengaluru',\n",
       " 'Bangalore/Bengaluru',\n",
       " 'Bangalore/Bengaluru',\n",
       " 'Bangalore/Bengaluru',\n",
       " 'Bangalore/Bengaluru',\n",
       " 'Hyderabad/Secunderabad, Bangalore/Bengaluru, Mumbai (All Areas)',\n",
       " 'Bangalore/Bengaluru',\n",
       " 'Bangalore/Bengaluru',\n",
       " 'Bangalore/Bengaluru, Delhi / NCR',\n",
       " 'Bangalore/Bengaluru',\n",
       " 'Bangalore/Bengaluru',\n",
       " 'Bangalore/Bengaluru',\n",
       " 'Bangalore/Bengaluru',\n",
       " 'Bangalore/Bengaluru',\n",
       " 'Bangalore/Bengaluru',\n",
       " 'Bangalore/Bengaluru']"
      ]
     },
     "execution_count": 26,
     "metadata": {},
     "output_type": "execute_result"
    }
   ],
   "source": [
    "locations_list=[]\n",
    "for i in locations_tags:\n",
    "    locations_list.append(i.text)\n",
    "locations_list"
   ]
  },
  {
   "cell_type": "code",
   "execution_count": 30,
   "metadata": {},
   "outputs": [
    {
     "data": {
      "text/html": [
       "<div>\n",
       "<style scoped>\n",
       "    .dataframe tbody tr th:only-of-type {\n",
       "        vertical-align: middle;\n",
       "    }\n",
       "\n",
       "    .dataframe tbody tr th {\n",
       "        vertical-align: top;\n",
       "    }\n",
       "\n",
       "    .dataframe thead th {\n",
       "        text-align: right;\n",
       "    }\n",
       "</style>\n",
       "<table border=\"1\" class=\"dataframe\">\n",
       "  <thead>\n",
       "    <tr style=\"text-align: right;\">\n",
       "      <th></th>\n",
       "      <th>title</th>\n",
       "      <th>company</th>\n",
       "      <th>job description</th>\n",
       "      <th>location</th>\n",
       "    </tr>\n",
       "  </thead>\n",
       "  <tbody>\n",
       "    <tr>\n",
       "      <th>0</th>\n",
       "      <td>Data Scientist / Data Analyst -Business Analyst</td>\n",
       "      <td>Inflexion Analytix Private Limited</td>\n",
       "      <td>Applications invited from all Freshers and exp...</td>\n",
       "      <td>Mumbai, Hyderabad/Secunderabad, Pune, Gurgaon/...</td>\n",
       "    </tr>\n",
       "    <tr>\n",
       "      <th>1</th>\n",
       "      <td>Data Scientist</td>\n",
       "      <td>Wipro Limited</td>\n",
       "      <td>Good statistical analysis skills for data pre-...</td>\n",
       "      <td>Kolkata, Hyderabad/Secunderabad, Chennai, Bang...</td>\n",
       "    </tr>\n",
       "    <tr>\n",
       "      <th>2</th>\n",
       "      <td>Big Data - Data Scientist</td>\n",
       "      <td>Xoriant Solutions Pvt Ltd</td>\n",
       "      <td>High motivation, good work ethic and maturityM...</td>\n",
       "      <td>Kochi/Cochin, Indore, Hyderabad/Secunderabad, ...</td>\n",
       "    </tr>\n",
       "    <tr>\n",
       "      <th>3</th>\n",
       "      <td>Specialist I - Data Scientist</td>\n",
       "      <td>Philips India Limited</td>\n",
       "      <td>Responsibilities and Key Result Areas Design a...</td>\n",
       "      <td>Bangalore/Bengaluru</td>\n",
       "    </tr>\n",
       "    <tr>\n",
       "      <th>4</th>\n",
       "      <td>Data Scientist</td>\n",
       "      <td>IBM India Pvt. Limited</td>\n",
       "      <td>modeling and business system design with exper...</td>\n",
       "      <td>Bangalore/Bengaluru</td>\n",
       "    </tr>\n",
       "    <tr>\n",
       "      <th>5</th>\n",
       "      <td>Lead Data Scientist</td>\n",
       "      <td>Intel Technology India Pvt Ltd</td>\n",
       "      <td>Experience in using data analysis techniques a...</td>\n",
       "      <td>Bangalore/Bengaluru</td>\n",
       "    </tr>\n",
       "    <tr>\n",
       "      <th>6</th>\n",
       "      <td>Data Scientist</td>\n",
       "      <td>Oracle India Pvt. Ltd.</td>\n",
       "      <td>Roles and Responsibilities Looking for 6+ yrs ...</td>\n",
       "      <td>Bangalore/Bengaluru</td>\n",
       "    </tr>\n",
       "    <tr>\n",
       "      <th>7</th>\n",
       "      <td>SDE Lead Data Scientist-L3</td>\n",
       "      <td>Huawei Technologies India Pvt Ltd</td>\n",
       "      <td>Strong hands-on experience in implementing and...</td>\n",
       "      <td>Bangalore/Bengaluru</td>\n",
       "    </tr>\n",
       "    <tr>\n",
       "      <th>8</th>\n",
       "      <td>Computational Design Lead Data Scientist-L3</td>\n",
       "      <td>Huawei Technologies India Pvt Ltd</td>\n",
       "      <td>Business &amp; Team overview:Founded in 1987, Huaw...</td>\n",
       "      <td>Bangalore/Bengaluru</td>\n",
       "    </tr>\n",
       "    <tr>\n",
       "      <th>9</th>\n",
       "      <td>Hiring For DATA Scientist - ON Contract Basis ...</td>\n",
       "      <td>GlobalEdx Learning and Technology Solution Pvt...</td>\n",
       "      <td>Experience : 3+ Years</td>\n",
       "      <td>Hyderabad/Secunderabad, Bangalore/Bengaluru, M...</td>\n",
       "    </tr>\n",
       "  </tbody>\n",
       "</table>\n",
       "</div>"
      ],
      "text/plain": [
       "                                               title  \\\n",
       "0    Data Scientist / Data Analyst -Business Analyst   \n",
       "1                                     Data Scientist   \n",
       "2                          Big Data - Data Scientist   \n",
       "3                      Specialist I - Data Scientist   \n",
       "4                                     Data Scientist   \n",
       "5                                Lead Data Scientist   \n",
       "6                                     Data Scientist   \n",
       "7                         SDE Lead Data Scientist-L3   \n",
       "8        Computational Design Lead Data Scientist-L3   \n",
       "9  Hiring For DATA Scientist - ON Contract Basis ...   \n",
       "\n",
       "                                             company  \\\n",
       "0                 Inflexion Analytix Private Limited   \n",
       "1                                      Wipro Limited   \n",
       "2                          Xoriant Solutions Pvt Ltd   \n",
       "3                              Philips India Limited   \n",
       "4                             IBM India Pvt. Limited   \n",
       "5                     Intel Technology India Pvt Ltd   \n",
       "6                             Oracle India Pvt. Ltd.   \n",
       "7                  Huawei Technologies India Pvt Ltd   \n",
       "8                  Huawei Technologies India Pvt Ltd   \n",
       "9  GlobalEdx Learning and Technology Solution Pvt...   \n",
       "\n",
       "                                     job description  \\\n",
       "0  Applications invited from all Freshers and exp...   \n",
       "1  Good statistical analysis skills for data pre-...   \n",
       "2  High motivation, good work ethic and maturityM...   \n",
       "3  Responsibilities and Key Result Areas Design a...   \n",
       "4  modeling and business system design with exper...   \n",
       "5  Experience in using data analysis techniques a...   \n",
       "6  Roles and Responsibilities Looking for 6+ yrs ...   \n",
       "7  Strong hands-on experience in implementing and...   \n",
       "8  Business & Team overview:Founded in 1987, Huaw...   \n",
       "9                              Experience : 3+ Years   \n",
       "\n",
       "                                            location  \n",
       "0  Mumbai, Hyderabad/Secunderabad, Pune, Gurgaon/...  \n",
       "1  Kolkata, Hyderabad/Secunderabad, Chennai, Bang...  \n",
       "2  Kochi/Cochin, Indore, Hyderabad/Secunderabad, ...  \n",
       "3                                Bangalore/Bengaluru  \n",
       "4                                Bangalore/Bengaluru  \n",
       "5                                Bangalore/Bengaluru  \n",
       "6                                Bangalore/Bengaluru  \n",
       "7                                Bangalore/Bengaluru  \n",
       "8                                Bangalore/Bengaluru  \n",
       "9  Hyderabad/Secunderabad, Bangalore/Bengaluru, M...  "
      ]
     },
     "execution_count": 30,
     "metadata": {},
     "output_type": "execute_result"
    }
   ],
   "source": [
    "import pandas as pd\n",
    "jobs=pd.DataFrame({})\n",
    "jobs['title']=job_titles[:10]\n",
    "jobs['company']=company_names[:10]\n",
    "jobs['job description']=job_description[:10]\n",
    "jobs['location']=locations_list[:10]\n",
    "jobs"
   ]
  },
  {
   "cell_type": "code",
   "execution_count": null,
   "metadata": {},
   "outputs": [],
   "source": []
  }
 ],
 "metadata": {
  "kernelspec": {
   "display_name": "Python 3",
   "language": "python",
   "name": "python3"
  },
  "language_info": {
   "codemirror_mode": {
    "name": "ipython",
    "version": 3
   },
   "file_extension": ".py",
   "mimetype": "text/x-python",
   "name": "python",
   "nbconvert_exporter": "python",
   "pygments_lexer": "ipython3",
   "version": "3.8.5"
  }
 },
 "nbformat": 4,
 "nbformat_minor": 4
}
