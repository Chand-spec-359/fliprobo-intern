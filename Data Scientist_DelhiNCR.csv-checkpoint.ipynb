{
 "cells": [
  {
   "cell_type": "code",
   "execution_count": 1,
   "metadata": {},
   "outputs": [
    {
     "name": "stdout",
     "output_type": "stream",
     "text": [
      "Requirement already satisfied: selenium in c:\\users\\chand sharma\\anaconda3\\lib\\site-packages (3.141.0)\n",
      "Requirement already satisfied: urllib3 in c:\\users\\chand sharma\\anaconda3\\lib\\site-packages (from selenium) (1.25.11)\n"
     ]
    }
   ],
   "source": [
    "! pip install selenium"
   ]
  },
  {
   "cell_type": "code",
   "execution_count": 2,
   "metadata": {},
   "outputs": [],
   "source": [
    "import selenium\n",
    "import pandas as pd\n",
    "from selenium import webdriver"
   ]
  },
  {
   "cell_type": "code",
   "execution_count": 3,
   "metadata": {},
   "outputs": [],
   "source": [
    "driver= webdriver.Chrome('chromedriver.exe')"
   ]
  },
  {
   "cell_type": "code",
   "execution_count": 4,
   "metadata": {},
   "outputs": [],
   "source": [
    "url='https://www.naukri.com/data-scientist-jobs-in-delhi-ncr?k=data%20scientist&l=delhi%2Fncr&ctcFilter=3to6'\n",
    "driver.get(url)"
   ]
  },
  {
   "cell_type": "code",
   "execution_count": 6,
   "metadata": {},
   "outputs": [
    {
     "data": {
      "text/plain": [
       "[<selenium.webdriver.remote.webelement.WebElement (session=\"265ff0873c5b40ca5fb9ed08738fd7d5\", element=\"3620e69e-65c6-42ae-8304-f7840c213701\")>,\n",
       " <selenium.webdriver.remote.webelement.WebElement (session=\"265ff0873c5b40ca5fb9ed08738fd7d5\", element=\"4e0c7231-94af-4f10-8ae9-7d28507cda21\")>,\n",
       " <selenium.webdriver.remote.webelement.WebElement (session=\"265ff0873c5b40ca5fb9ed08738fd7d5\", element=\"f2ba318f-7396-4d99-9bc1-97c9f996641f\")>,\n",
       " <selenium.webdriver.remote.webelement.WebElement (session=\"265ff0873c5b40ca5fb9ed08738fd7d5\", element=\"e2a96f4d-6f5a-407b-a05d-5610e989e01f\")>,\n",
       " <selenium.webdriver.remote.webelement.WebElement (session=\"265ff0873c5b40ca5fb9ed08738fd7d5\", element=\"2a99d991-8142-4abe-af42-2fed80845499\")>,\n",
       " <selenium.webdriver.remote.webelement.WebElement (session=\"265ff0873c5b40ca5fb9ed08738fd7d5\", element=\"f8a53f18-72bc-41b3-aab7-2f7d71b668c9\")>,\n",
       " <selenium.webdriver.remote.webelement.WebElement (session=\"265ff0873c5b40ca5fb9ed08738fd7d5\", element=\"f92e06e7-7392-41c5-bcfd-e12c30d5578e\")>,\n",
       " <selenium.webdriver.remote.webelement.WebElement (session=\"265ff0873c5b40ca5fb9ed08738fd7d5\", element=\"8477f3e6-51da-442e-a0a9-229ecfd962b2\")>,\n",
       " <selenium.webdriver.remote.webelement.WebElement (session=\"265ff0873c5b40ca5fb9ed08738fd7d5\", element=\"39649f1d-6231-48b2-95f6-84dbffa434f9\")>,\n",
       " <selenium.webdriver.remote.webelement.WebElement (session=\"265ff0873c5b40ca5fb9ed08738fd7d5\", element=\"05beed87-69bc-4a8f-91b2-34ad693aecc6\")>,\n",
       " <selenium.webdriver.remote.webelement.WebElement (session=\"265ff0873c5b40ca5fb9ed08738fd7d5\", element=\"a5c30e57-b4b1-4adf-94d1-26f6a83a1105\")>,\n",
       " <selenium.webdriver.remote.webelement.WebElement (session=\"265ff0873c5b40ca5fb9ed08738fd7d5\", element=\"67ceee09-030a-4c5b-aba0-b2d9628972ec\")>,\n",
       " <selenium.webdriver.remote.webelement.WebElement (session=\"265ff0873c5b40ca5fb9ed08738fd7d5\", element=\"9bdc90fa-ffce-461a-9dcf-1c6a6f8637b1\")>,\n",
       " <selenium.webdriver.remote.webelement.WebElement (session=\"265ff0873c5b40ca5fb9ed08738fd7d5\", element=\"4d05b6a5-3385-47e0-9f18-a6221c6a49f6\")>,\n",
       " <selenium.webdriver.remote.webelement.WebElement (session=\"265ff0873c5b40ca5fb9ed08738fd7d5\", element=\"aca1b5df-802b-4cef-b5b1-8cade7756e4b\")>,\n",
       " <selenium.webdriver.remote.webelement.WebElement (session=\"265ff0873c5b40ca5fb9ed08738fd7d5\", element=\"f9b53561-ce0a-436e-aa47-fdedfb008f76\")>,\n",
       " <selenium.webdriver.remote.webelement.WebElement (session=\"265ff0873c5b40ca5fb9ed08738fd7d5\", element=\"6bd8bf71-514c-4319-920a-73d69d3f6945\")>,\n",
       " <selenium.webdriver.remote.webelement.WebElement (session=\"265ff0873c5b40ca5fb9ed08738fd7d5\", element=\"70f877d6-97ab-44e2-9c1e-d7add85ca927\")>,\n",
       " <selenium.webdriver.remote.webelement.WebElement (session=\"265ff0873c5b40ca5fb9ed08738fd7d5\", element=\"c3469f7b-ff3a-4f77-b1fc-7ab96d9f57cb\")>,\n",
       " <selenium.webdriver.remote.webelement.WebElement (session=\"265ff0873c5b40ca5fb9ed08738fd7d5\", element=\"b2976a43-a1bf-4592-bdb6-4d4fa1e0615b\")>]"
      ]
     },
     "execution_count": 6,
     "metadata": {},
     "output_type": "execute_result"
    }
   ],
   "source": [
    "# so extract all the tags having the job-title\n",
    "\n",
    "titles_tags=driver.find_elements_by_xpath(\"//a[@class='title fw500 ellipsis']\")\n",
    "titles_tags"
   ]
  },
  {
   "cell_type": "code",
   "execution_count": 7,
   "metadata": {},
   "outputs": [
    {
     "data": {
      "text/plain": [
       "['Data Scientist / Data Analyst -Business Analyst',\n",
       " 'Business Analyst- Data Scientist',\n",
       " 'Data Scientist - High growth VC backed Influencer Marketplace',\n",
       " 'DATA Scientist – Gurgaon (Exp 3-6 years)',\n",
       " 'DATA Scientist – Gurgaon (Exp 3-6 years)',\n",
       " 'Data Scientist - Noida',\n",
       " 'Data Scientist',\n",
       " 'Data Scientist',\n",
       " 'Data Scientist',\n",
       " 'Senior Data Scientist II 5+ yrs II Gurgaon',\n",
       " 'Senior Data Scientist',\n",
       " 'Data Scientist',\n",
       " 'Data Scientist',\n",
       " 'Data Scientist',\n",
       " 'Data Scientist',\n",
       " 'Data Scientist Machine Learning',\n",
       " 'Data Scientist',\n",
       " 'Data Scientist',\n",
       " 'Associate Data Scientist',\n",
       " 'Associate Data Scientist']"
      ]
     },
     "execution_count": 7,
     "metadata": {},
     "output_type": "execute_result"
    }
   ],
   "source": [
    "# now the text of the job title is inside the tags extracted above\n",
    "# so we will run a loop to iterate over the tags extracted above and extract the text inside them\n",
    "\n",
    "job_titles=[]\n",
    "for i in titles_tags:\n",
    "    job_titles.append(i.text)\n",
    "job_titles"
   ]
  },
  {
   "cell_type": "code",
   "execution_count": 8,
   "metadata": {},
   "outputs": [],
   "source": [
    "# now we want to extract the company names\n"
   ]
  },
  {
   "cell_type": "code",
   "execution_count": 9,
   "metadata": {},
   "outputs": [
    {
     "data": {
      "text/plain": [
       "[<selenium.webdriver.remote.webelement.WebElement (session=\"265ff0873c5b40ca5fb9ed08738fd7d5\", element=\"b68bc051-b479-4fe0-83ce-cef7ae590312\")>,\n",
       " <selenium.webdriver.remote.webelement.WebElement (session=\"265ff0873c5b40ca5fb9ed08738fd7d5\", element=\"a2b36415-94ca-40e3-a5d5-bdd3a6509f53\")>,\n",
       " <selenium.webdriver.remote.webelement.WebElement (session=\"265ff0873c5b40ca5fb9ed08738fd7d5\", element=\"3d3d548d-2468-4baf-9019-f51c2a72fd8b\")>,\n",
       " <selenium.webdriver.remote.webelement.WebElement (session=\"265ff0873c5b40ca5fb9ed08738fd7d5\", element=\"3dc3541a-64b2-42c6-ab73-132f2c643282\")>,\n",
       " <selenium.webdriver.remote.webelement.WebElement (session=\"265ff0873c5b40ca5fb9ed08738fd7d5\", element=\"6d828758-0a48-479f-8b69-0b78009e5619\")>,\n",
       " <selenium.webdriver.remote.webelement.WebElement (session=\"265ff0873c5b40ca5fb9ed08738fd7d5\", element=\"c25e8e1e-23be-405b-8304-ecf342f122c0\")>,\n",
       " <selenium.webdriver.remote.webelement.WebElement (session=\"265ff0873c5b40ca5fb9ed08738fd7d5\", element=\"c59abdd7-7ab5-452f-bd81-fab74a97bd8e\")>,\n",
       " <selenium.webdriver.remote.webelement.WebElement (session=\"265ff0873c5b40ca5fb9ed08738fd7d5\", element=\"70a56182-2052-415d-a880-25019a02f0e0\")>,\n",
       " <selenium.webdriver.remote.webelement.WebElement (session=\"265ff0873c5b40ca5fb9ed08738fd7d5\", element=\"6b105991-97d7-4409-b72d-010bb954e6a5\")>,\n",
       " <selenium.webdriver.remote.webelement.WebElement (session=\"265ff0873c5b40ca5fb9ed08738fd7d5\", element=\"49841d15-8566-4393-858a-0a6811585269\")>,\n",
       " <selenium.webdriver.remote.webelement.WebElement (session=\"265ff0873c5b40ca5fb9ed08738fd7d5\", element=\"fe4c947e-bb56-4908-9a34-94c0c57c6a8f\")>,\n",
       " <selenium.webdriver.remote.webelement.WebElement (session=\"265ff0873c5b40ca5fb9ed08738fd7d5\", element=\"2a2778fe-1ee1-460f-bf2a-7dc5208ccf5e\")>,\n",
       " <selenium.webdriver.remote.webelement.WebElement (session=\"265ff0873c5b40ca5fb9ed08738fd7d5\", element=\"ad065410-0589-4702-9da7-1b6ef3137f43\")>,\n",
       " <selenium.webdriver.remote.webelement.WebElement (session=\"265ff0873c5b40ca5fb9ed08738fd7d5\", element=\"dc69f627-86d6-4edf-b625-973d5d30cc37\")>,\n",
       " <selenium.webdriver.remote.webelement.WebElement (session=\"265ff0873c5b40ca5fb9ed08738fd7d5\", element=\"d49b2c6b-96d7-461c-b022-51602357ca2d\")>,\n",
       " <selenium.webdriver.remote.webelement.WebElement (session=\"265ff0873c5b40ca5fb9ed08738fd7d5\", element=\"ce750d30-0e9d-43e4-9b36-ccebdc2c8fa0\")>,\n",
       " <selenium.webdriver.remote.webelement.WebElement (session=\"265ff0873c5b40ca5fb9ed08738fd7d5\", element=\"d6794790-1c99-4fc8-956b-0242ea15120d\")>,\n",
       " <selenium.webdriver.remote.webelement.WebElement (session=\"265ff0873c5b40ca5fb9ed08738fd7d5\", element=\"35b15948-c0a2-4c98-8219-dec13c493433\")>,\n",
       " <selenium.webdriver.remote.webelement.WebElement (session=\"265ff0873c5b40ca5fb9ed08738fd7d5\", element=\"0487493a-70b8-4268-ab70-053aacaf76c8\")>,\n",
       " <selenium.webdriver.remote.webelement.WebElement (session=\"265ff0873c5b40ca5fb9ed08738fd7d5\", element=\"8472e09a-e482-4ab9-862d-73051a8048bc\")>]"
      ]
     },
     "execution_count": 9,
     "metadata": {},
     "output_type": "execute_result"
    }
   ],
   "source": [
    "companies_tags=driver.find_elements_by_xpath(\"//a[@class='subTitle ellipsis fleft']\")\n",
    "companies_tags"
   ]
  },
  {
   "cell_type": "code",
   "execution_count": 10,
   "metadata": {},
   "outputs": [
    {
     "data": {
      "text/plain": [
       "['Inflexion Analytix Private Limited',\n",
       " 'Wipro',\n",
       " 'Ravgins International Pvt. Ltd.',\n",
       " 'CRESCENDO GLOBAL LEADERSHIP HIRING INDIA PRIVATE L IMITED',\n",
       " 'CRESCENDO GLOBAL LEADERSHIP HIRING INDIA PRIVATE L IMITED',\n",
       " 'Optum Global Solutions (India) Private Limited',\n",
       " 'Blitz Jobs',\n",
       " 'IBM India Pvt. Limited',\n",
       " 'Country Veggie',\n",
       " 'Zenatix Solutions Private Limited',\n",
       " 'iNICU',\n",
       " 'BlackBuck',\n",
       " 'Sentieo',\n",
       " 'Mahajan Imaging',\n",
       " 'Mahajan Imaging',\n",
       " 'Delhivery',\n",
       " 'Mobikwik',\n",
       " 'itForte Staffing Services Private Ltd.',\n",
       " 'Blow Trumpet Solutions',\n",
       " 'Right Step Consulting']"
      ]
     },
     "execution_count": 10,
     "metadata": {},
     "output_type": "execute_result"
    }
   ],
   "source": [
    "company_names=[]\n",
    "for i in companies_tags:\n",
    "    company_names.append(i.text)\n",
    "company_names"
   ]
  },
  {
   "cell_type": "code",
   "execution_count": 11,
   "metadata": {},
   "outputs": [],
   "source": [
    "#job experience"
   ]
  },
  {
   "cell_type": "code",
   "execution_count": 12,
   "metadata": {},
   "outputs": [
    {
     "data": {
      "text/plain": [
       "[<selenium.webdriver.remote.webelement.WebElement (session=\"265ff0873c5b40ca5fb9ed08738fd7d5\", element=\"b714bca6-40da-4f21-8599-2232094a6572\")>,\n",
       " <selenium.webdriver.remote.webelement.WebElement (session=\"265ff0873c5b40ca5fb9ed08738fd7d5\", element=\"a6cd639e-9731-428e-9c46-2eb209cc5289\")>,\n",
       " <selenium.webdriver.remote.webelement.WebElement (session=\"265ff0873c5b40ca5fb9ed08738fd7d5\", element=\"ca70d3ec-4115-44ed-8a3f-87962d223edb\")>,\n",
       " <selenium.webdriver.remote.webelement.WebElement (session=\"265ff0873c5b40ca5fb9ed08738fd7d5\", element=\"812c55e7-b4d5-4cf4-bf5d-4a72146818e2\")>,\n",
       " <selenium.webdriver.remote.webelement.WebElement (session=\"265ff0873c5b40ca5fb9ed08738fd7d5\", element=\"49a7a063-9144-40fc-a2f7-267c4a51758d\")>,\n",
       " <selenium.webdriver.remote.webelement.WebElement (session=\"265ff0873c5b40ca5fb9ed08738fd7d5\", element=\"a7e80735-c955-4492-973b-2f24ac390aab\")>,\n",
       " <selenium.webdriver.remote.webelement.WebElement (session=\"265ff0873c5b40ca5fb9ed08738fd7d5\", element=\"c29ec093-58b3-4bf8-a3fe-cc9d2aaa7ddc\")>,\n",
       " <selenium.webdriver.remote.webelement.WebElement (session=\"265ff0873c5b40ca5fb9ed08738fd7d5\", element=\"5e556680-faf9-4a4a-8e9c-8d19e25183c2\")>,\n",
       " <selenium.webdriver.remote.webelement.WebElement (session=\"265ff0873c5b40ca5fb9ed08738fd7d5\", element=\"ef7ccbc1-dd73-4f1b-8044-ed823fd903b0\")>,\n",
       " <selenium.webdriver.remote.webelement.WebElement (session=\"265ff0873c5b40ca5fb9ed08738fd7d5\", element=\"a3805274-6b7a-4581-9079-13c3115b412f\")>,\n",
       " <selenium.webdriver.remote.webelement.WebElement (session=\"265ff0873c5b40ca5fb9ed08738fd7d5\", element=\"ebb1ff66-d58b-45ff-b5c8-5de15ce85d19\")>,\n",
       " <selenium.webdriver.remote.webelement.WebElement (session=\"265ff0873c5b40ca5fb9ed08738fd7d5\", element=\"bc6f6987-539c-4dcd-9214-1cd70373f143\")>,\n",
       " <selenium.webdriver.remote.webelement.WebElement (session=\"265ff0873c5b40ca5fb9ed08738fd7d5\", element=\"746f6ead-ba5d-4624-960e-12be64c3829c\")>,\n",
       " <selenium.webdriver.remote.webelement.WebElement (session=\"265ff0873c5b40ca5fb9ed08738fd7d5\", element=\"ebcaf40d-0bc8-4a2c-9c0a-1c84c08b46a9\")>,\n",
       " <selenium.webdriver.remote.webelement.WebElement (session=\"265ff0873c5b40ca5fb9ed08738fd7d5\", element=\"019ca73a-7a4e-4a9c-bd06-ea7d8618f0b6\")>,\n",
       " <selenium.webdriver.remote.webelement.WebElement (session=\"265ff0873c5b40ca5fb9ed08738fd7d5\", element=\"d5897429-d65a-47b0-bec6-9d1a9b492509\")>,\n",
       " <selenium.webdriver.remote.webelement.WebElement (session=\"265ff0873c5b40ca5fb9ed08738fd7d5\", element=\"1ea04e42-5e38-41d9-9ac2-ae6a678d544e\")>,\n",
       " <selenium.webdriver.remote.webelement.WebElement (session=\"265ff0873c5b40ca5fb9ed08738fd7d5\", element=\"5b3fc0b7-5a34-4ac7-a1be-7b8ddf6d83bc\")>,\n",
       " <selenium.webdriver.remote.webelement.WebElement (session=\"265ff0873c5b40ca5fb9ed08738fd7d5\", element=\"d3281d4e-3299-4954-99ed-6b76a93e1d18\")>,\n",
       " <selenium.webdriver.remote.webelement.WebElement (session=\"265ff0873c5b40ca5fb9ed08738fd7d5\", element=\"a6377417-7133-4cd2-9599-617ecaf47aad\")>]"
      ]
     },
     "execution_count": 12,
     "metadata": {},
     "output_type": "execute_result"
    }
   ],
   "source": [
    "job_exp=driver.find_elements_by_xpath(\"//li[@class='fleft grey-text br2 placeHolderLi experience']\")\n",
    "job_exp"
   ]
  },
  {
   "cell_type": "code",
   "execution_count": 13,
   "metadata": {},
   "outputs": [
    {
     "data": {
      "text/plain": [
       "['0-3 Yrs',\n",
       " '2-5 Yrs',\n",
       " '3-5 Yrs',\n",
       " '3-6 Yrs',\n",
       " '3-6 Yrs',\n",
       " '3-5 Yrs',\n",
       " '3-5 Yrs',\n",
       " '4-9 Yrs',\n",
       " '1-3 Yrs',\n",
       " '5-10 Yrs',\n",
       " '1-5 Yrs',\n",
       " '3-7 Yrs',\n",
       " '2-7 Yrs',\n",
       " '2-6 Yrs',\n",
       " '2-6 Yrs',\n",
       " '1-3 Yrs',\n",
       " '3-5 Yrs',\n",
       " '3-8 Yrs',\n",
       " '1-5 Yrs',\n",
       " '3-6 Yrs']"
      ]
     },
     "execution_count": 13,
     "metadata": {},
     "output_type": "execute_result"
    }
   ],
   "source": [
    "job_experience=[]\n",
    "for i in job_exp:\n",
    "    job_experience.append(i.text)\n",
    "job_experience"
   ]
  },
  {
   "cell_type": "code",
   "execution_count": 14,
   "metadata": {},
   "outputs": [],
   "source": [
    "# extract location"
   ]
  },
  {
   "cell_type": "code",
   "execution_count": 15,
   "metadata": {},
   "outputs": [
    {
     "data": {
      "text/plain": [
       "[<selenium.webdriver.remote.webelement.WebElement (session=\"265ff0873c5b40ca5fb9ed08738fd7d5\", element=\"ac65fda0-aff7-47b4-a5d9-9607671e1e69\")>,\n",
       " <selenium.webdriver.remote.webelement.WebElement (session=\"265ff0873c5b40ca5fb9ed08738fd7d5\", element=\"7ec47723-f668-4df8-912b-96d02ae76367\")>,\n",
       " <selenium.webdriver.remote.webelement.WebElement (session=\"265ff0873c5b40ca5fb9ed08738fd7d5\", element=\"7fb2718b-ba84-4609-962a-7676cc589c53\")>,\n",
       " <selenium.webdriver.remote.webelement.WebElement (session=\"265ff0873c5b40ca5fb9ed08738fd7d5\", element=\"1cfda559-cd29-4ea4-a679-0e836bb8e0dc\")>,\n",
       " <selenium.webdriver.remote.webelement.WebElement (session=\"265ff0873c5b40ca5fb9ed08738fd7d5\", element=\"285c61a7-19cd-4594-8da3-30223878024a\")>,\n",
       " <selenium.webdriver.remote.webelement.WebElement (session=\"265ff0873c5b40ca5fb9ed08738fd7d5\", element=\"dc0a915b-a9ec-4c15-9887-04c2bc239e06\")>,\n",
       " <selenium.webdriver.remote.webelement.WebElement (session=\"265ff0873c5b40ca5fb9ed08738fd7d5\", element=\"a238e1f9-fc98-40d8-afc8-5743dfaa929b\")>,\n",
       " <selenium.webdriver.remote.webelement.WebElement (session=\"265ff0873c5b40ca5fb9ed08738fd7d5\", element=\"72b84871-c36c-4bab-a011-4c0284bf846e\")>,\n",
       " <selenium.webdriver.remote.webelement.WebElement (session=\"265ff0873c5b40ca5fb9ed08738fd7d5\", element=\"b6a9904d-d212-4971-afca-f71329eaf907\")>,\n",
       " <selenium.webdriver.remote.webelement.WebElement (session=\"265ff0873c5b40ca5fb9ed08738fd7d5\", element=\"ac9bb48d-3bcf-4351-bdfd-8cf86a1156db\")>,\n",
       " <selenium.webdriver.remote.webelement.WebElement (session=\"265ff0873c5b40ca5fb9ed08738fd7d5\", element=\"f155c70b-051f-49a7-a0c9-e67be4d3dcc7\")>,\n",
       " <selenium.webdriver.remote.webelement.WebElement (session=\"265ff0873c5b40ca5fb9ed08738fd7d5\", element=\"60567c37-4e87-43cb-892b-34a91464510e\")>,\n",
       " <selenium.webdriver.remote.webelement.WebElement (session=\"265ff0873c5b40ca5fb9ed08738fd7d5\", element=\"d92e356b-00ec-4b7c-9e0c-b0b8a604cdcf\")>,\n",
       " <selenium.webdriver.remote.webelement.WebElement (session=\"265ff0873c5b40ca5fb9ed08738fd7d5\", element=\"0eced5b1-21e1-44e0-8973-cf80190b940a\")>,\n",
       " <selenium.webdriver.remote.webelement.WebElement (session=\"265ff0873c5b40ca5fb9ed08738fd7d5\", element=\"abb13c53-d0a7-4269-b36d-ccff7d722367\")>,\n",
       " <selenium.webdriver.remote.webelement.WebElement (session=\"265ff0873c5b40ca5fb9ed08738fd7d5\", element=\"fa2a2e3e-9337-45fc-aa7b-3ba7d64f5470\")>,\n",
       " <selenium.webdriver.remote.webelement.WebElement (session=\"265ff0873c5b40ca5fb9ed08738fd7d5\", element=\"aea8478d-c96c-4bea-b837-d9deccb88f39\")>,\n",
       " <selenium.webdriver.remote.webelement.WebElement (session=\"265ff0873c5b40ca5fb9ed08738fd7d5\", element=\"d9e9c17d-69a5-49c0-aae6-e93eaaafb6d4\")>,\n",
       " <selenium.webdriver.remote.webelement.WebElement (session=\"265ff0873c5b40ca5fb9ed08738fd7d5\", element=\"872106bb-4a27-4932-820b-04d317576824\")>,\n",
       " <selenium.webdriver.remote.webelement.WebElement (session=\"265ff0873c5b40ca5fb9ed08738fd7d5\", element=\"0eb1ea66-9f90-43ef-8599-831acef547cb\")>]"
      ]
     },
     "execution_count": 15,
     "metadata": {},
     "output_type": "execute_result"
    }
   ],
   "source": [
    "locations_tags=driver.find_elements_by_xpath(\"//li[@class='fleft grey-text br2 placeHolderLi location']\")\n",
    "locations_tags"
   ]
  },
  {
   "cell_type": "code",
   "execution_count": 16,
   "metadata": {},
   "outputs": [
    {
     "data": {
      "text/plain": [
       "['Mumbai, Hyderabad/Secunderabad, Pune, Gurgaon/Gurugram, Chennai, Bangalore/Bengaluru',\n",
       " 'Noida, Gurgaon/Gurugram',\n",
       " 'Bangalore/Bengaluru, Delhi / NCR, Mumbai (All Areas)',\n",
       " 'Gurgaon/Gurugram, Delhi / NCR',\n",
       " 'Gurgaon/Gurugram, Delhi / NCR',\n",
       " 'Noida',\n",
       " 'Noida',\n",
       " 'Noida, Hyderabad/Secunderabad, Bangalore/Bengaluru',\n",
       " 'Bharuch, Jaipur, Bhopal, Mumbai, Jhansi, Nagpur, Ghaziabad, Jaunpur, Kanpur, New Delhi, Lucknow, Agra, Gurgaon/Gurugram, Rajkot, Bangalore/Bengaluru',\n",
       " 'Gurgaon/Gurugram',\n",
       " 'Delhi',\n",
       " 'Gurgaon/Gurugram, Bangalore/Bengaluru',\n",
       " 'Delhi',\n",
       " 'New Delhi',\n",
       " 'Delhi',\n",
       " 'Gurgaon/Gurugram',\n",
       " 'New Delhi, Gurgaon/Gurugram, Delhi / NCR',\n",
       " 'Gurgaon',\n",
       " 'New Delhi',\n",
       " 'Noida']"
      ]
     },
     "execution_count": 16,
     "metadata": {},
     "output_type": "execute_result"
    }
   ],
   "source": [
    "locations_list=[]\n",
    "for i in locations_tags:\n",
    "    locations_list.append(i.text)\n",
    "locations_list"
   ]
  },
  {
   "cell_type": "code",
   "execution_count": 17,
   "metadata": {},
   "outputs": [
    {
     "data": {
      "text/html": [
       "<div>\n",
       "<style scoped>\n",
       "    .dataframe tbody tr th:only-of-type {\n",
       "        vertical-align: middle;\n",
       "    }\n",
       "\n",
       "    .dataframe tbody tr th {\n",
       "        vertical-align: top;\n",
       "    }\n",
       "\n",
       "    .dataframe thead th {\n",
       "        text-align: right;\n",
       "    }\n",
       "</style>\n",
       "<table border=\"1\" class=\"dataframe\">\n",
       "  <thead>\n",
       "    <tr style=\"text-align: right;\">\n",
       "      <th></th>\n",
       "      <th>title</th>\n",
       "      <th>company</th>\n",
       "      <th>job experience</th>\n",
       "      <th>location</th>\n",
       "    </tr>\n",
       "  </thead>\n",
       "  <tbody>\n",
       "    <tr>\n",
       "      <th>0</th>\n",
       "      <td>Data Scientist / Data Analyst -Business Analyst</td>\n",
       "      <td>Inflexion Analytix Private Limited</td>\n",
       "      <td>0-3 Yrs</td>\n",
       "      <td>Mumbai, Hyderabad/Secunderabad, Pune, Gurgaon/...</td>\n",
       "    </tr>\n",
       "    <tr>\n",
       "      <th>1</th>\n",
       "      <td>Business Analyst- Data Scientist</td>\n",
       "      <td>Wipro</td>\n",
       "      <td>2-5 Yrs</td>\n",
       "      <td>Noida, Gurgaon/Gurugram</td>\n",
       "    </tr>\n",
       "    <tr>\n",
       "      <th>2</th>\n",
       "      <td>Data Scientist - High growth VC backed Influen...</td>\n",
       "      <td>Ravgins International Pvt. Ltd.</td>\n",
       "      <td>3-5 Yrs</td>\n",
       "      <td>Bangalore/Bengaluru, Delhi / NCR, Mumbai (All ...</td>\n",
       "    </tr>\n",
       "    <tr>\n",
       "      <th>3</th>\n",
       "      <td>DATA Scientist – Gurgaon (Exp 3-6 years)</td>\n",
       "      <td>CRESCENDO GLOBAL LEADERSHIP HIRING INDIA PRIVA...</td>\n",
       "      <td>3-6 Yrs</td>\n",
       "      <td>Gurgaon/Gurugram, Delhi / NCR</td>\n",
       "    </tr>\n",
       "    <tr>\n",
       "      <th>4</th>\n",
       "      <td>DATA Scientist – Gurgaon (Exp 3-6 years)</td>\n",
       "      <td>CRESCENDO GLOBAL LEADERSHIP HIRING INDIA PRIVA...</td>\n",
       "      <td>3-6 Yrs</td>\n",
       "      <td>Gurgaon/Gurugram, Delhi / NCR</td>\n",
       "    </tr>\n",
       "    <tr>\n",
       "      <th>5</th>\n",
       "      <td>Data Scientist - Noida</td>\n",
       "      <td>Optum Global Solutions (India) Private Limited</td>\n",
       "      <td>3-5 Yrs</td>\n",
       "      <td>Noida</td>\n",
       "    </tr>\n",
       "    <tr>\n",
       "      <th>6</th>\n",
       "      <td>Data Scientist</td>\n",
       "      <td>Blitz Jobs</td>\n",
       "      <td>3-5 Yrs</td>\n",
       "      <td>Noida</td>\n",
       "    </tr>\n",
       "    <tr>\n",
       "      <th>7</th>\n",
       "      <td>Data Scientist</td>\n",
       "      <td>IBM India Pvt. Limited</td>\n",
       "      <td>4-9 Yrs</td>\n",
       "      <td>Noida, Hyderabad/Secunderabad, Bangalore/Benga...</td>\n",
       "    </tr>\n",
       "    <tr>\n",
       "      <th>8</th>\n",
       "      <td>Data Scientist</td>\n",
       "      <td>Country Veggie</td>\n",
       "      <td>1-3 Yrs</td>\n",
       "      <td>Bharuch, Jaipur, Bhopal, Mumbai, Jhansi, Nagpu...</td>\n",
       "    </tr>\n",
       "    <tr>\n",
       "      <th>9</th>\n",
       "      <td>Senior Data Scientist II 5+ yrs II Gurgaon</td>\n",
       "      <td>Zenatix Solutions Private Limited</td>\n",
       "      <td>5-10 Yrs</td>\n",
       "      <td>Gurgaon/Gurugram</td>\n",
       "    </tr>\n",
       "  </tbody>\n",
       "</table>\n",
       "</div>"
      ],
      "text/plain": [
       "                                               title  \\\n",
       "0    Data Scientist / Data Analyst -Business Analyst   \n",
       "1                   Business Analyst- Data Scientist   \n",
       "2  Data Scientist - High growth VC backed Influen...   \n",
       "3           DATA Scientist – Gurgaon (Exp 3-6 years)   \n",
       "4           DATA Scientist – Gurgaon (Exp 3-6 years)   \n",
       "5                             Data Scientist - Noida   \n",
       "6                                     Data Scientist   \n",
       "7                                     Data Scientist   \n",
       "8                                     Data Scientist   \n",
       "9         Senior Data Scientist II 5+ yrs II Gurgaon   \n",
       "\n",
       "                                             company job experience  \\\n",
       "0                 Inflexion Analytix Private Limited        0-3 Yrs   \n",
       "1                                              Wipro        2-5 Yrs   \n",
       "2                    Ravgins International Pvt. Ltd.        3-5 Yrs   \n",
       "3  CRESCENDO GLOBAL LEADERSHIP HIRING INDIA PRIVA...        3-6 Yrs   \n",
       "4  CRESCENDO GLOBAL LEADERSHIP HIRING INDIA PRIVA...        3-6 Yrs   \n",
       "5     Optum Global Solutions (India) Private Limited        3-5 Yrs   \n",
       "6                                         Blitz Jobs        3-5 Yrs   \n",
       "7                             IBM India Pvt. Limited        4-9 Yrs   \n",
       "8                                     Country Veggie        1-3 Yrs   \n",
       "9                  Zenatix Solutions Private Limited       5-10 Yrs   \n",
       "\n",
       "                                            location  \n",
       "0  Mumbai, Hyderabad/Secunderabad, Pune, Gurgaon/...  \n",
       "1                            Noida, Gurgaon/Gurugram  \n",
       "2  Bangalore/Bengaluru, Delhi / NCR, Mumbai (All ...  \n",
       "3                      Gurgaon/Gurugram, Delhi / NCR  \n",
       "4                      Gurgaon/Gurugram, Delhi / NCR  \n",
       "5                                              Noida  \n",
       "6                                              Noida  \n",
       "7  Noida, Hyderabad/Secunderabad, Bangalore/Benga...  \n",
       "8  Bharuch, Jaipur, Bhopal, Mumbai, Jhansi, Nagpu...  \n",
       "9                                   Gurgaon/Gurugram  "
      ]
     },
     "execution_count": 17,
     "metadata": {},
     "output_type": "execute_result"
    }
   ],
   "source": [
    "import pandas as pd\n",
    "jobs=pd.DataFrame({})\n",
    "jobs['title']=job_titles[:10]\n",
    "jobs['company']=company_names[:10]\n",
    "jobs['job experience']=job_experience[:10]\n",
    "jobs['location']=locations_list[:10]\n",
    "jobs"
   ]
  },
  {
   "cell_type": "code",
   "execution_count": null,
   "metadata": {},
   "outputs": [],
   "source": []
  }
 ],
 "metadata": {
  "kernelspec": {
   "display_name": "Python 3",
   "language": "python",
   "name": "python3"
  },
  "language_info": {
   "codemirror_mode": {
    "name": "ipython",
    "version": 3
   },
   "file_extension": ".py",
   "mimetype": "text/x-python",
   "name": "python",
   "nbconvert_exporter": "python",
   "pygments_lexer": "ipython3",
   "version": "3.8.5"
  }
 },
 "nbformat": 4,
 "nbformat_minor": 4
}
